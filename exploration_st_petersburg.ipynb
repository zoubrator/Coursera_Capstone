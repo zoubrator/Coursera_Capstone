{
 "cells": [
  {
   "cell_type": "markdown",
   "metadata": {
    "pycharm": {
     "name": "#%% md\n"
    }
   },
   "source": [
    "<h1>Exploration air pollution and venues in the boroughs of St. Petersburg </h1>"
   ]
  },
  {
   "cell_type": "markdown",
   "metadata": {},
   "source": [
    "## Table of contents\n",
    "* [Introduction: Business Problem](#Introduction:-Business-Problem)\n",
    "* [Data](#Data)"
   ]
  },
  {
   "cell_type": "markdown",
   "metadata": {},
   "source": [
    "<h2>Introduction: Business Problem</h2>"
   ]
  },
  {
   "cell_type": "markdown",
   "metadata": {},
   "source": [
    "This project is aimed, first of all, to all people who are looking for a house or an apartment in the city or who want to open a new venue. This project will allow people to look for the best house in terms of environmental conditions and the availability of various facilities and venues in the area. This report will be especially useful for those who have respiratory diseases or other diseases in which clean air is important.\n",
    "\n",
    "I will consider various indicators of air pollution from stations located in different areas of the city. I also explore these areas by the number and variety of venues. Based on the data I will try to group different areas of the city and give the name and characteristics of each group so that you can easily make a decision about which area is the best for you."
   ]
  },
  {
   "cell_type": "markdown",
   "metadata": {},
   "source": [
    "<h2>Data</h2>\n"
   ]
  },
  {
   "cell_type": "markdown",
   "metadata": {},
   "source": [
    "I will use data about air pollution from <a href=\"http://www.infoeco.ru/index.php?id=8222\"> the offical site about ecology in Saint Petersburg</a>.\n",
    "There is one docx file for each day. Each file contains observations from 24 stations with next indicators:\n",
    "<ul>\n",
    "<li>carbon_monoxide</li>\n",
    "<li>nitric_oxide</li>\n",
    "<li>nitrogen_dioxide</li>\t\n",
    "</ul>\n",
    "I decided to use observations for January because, since February, the city has quarantined the coronavirus.\n",
    "\n",
    "I will use Google Maps API for geocoding stations addresses and Folium for building a map.\n",
    "\n",
    "Also, I will use the Foursquare API for getting venues near stations. I will group venues on categories for each area. After that, I will use the top-5 categories for making the final dataframe. "
   ]
  },
  {
   "cell_type": "markdown",
   "metadata": {
    "pycharm": {
     "name": "#%% md\n"
    }
   },
   "source": [
    "<h3> Stations</h3>\n"
   ]
  },
  {
   "cell_type": "markdown",
   "metadata": {
    "pycharm": {
     "name": "#%% md\n"
    }
   },
   "source": [
    "Firstly, I do the list of all stations by my own in CSV file. Load the file and create a dataframe."
   ]
  },
  {
   "cell_type": "code",
   "execution_count": 1,
   "metadata": {
    "pycharm": {
     "name": "#%%\n"
    }
   },
   "outputs": [
    {
     "data": {
      "text/html": [
       "<div>\n",
       "<style scoped>\n",
       "    .dataframe tbody tr th:only-of-type {\n",
       "        vertical-align: middle;\n",
       "    }\n",
       "\n",
       "    .dataframe tbody tr th {\n",
       "        vertical-align: top;\n",
       "    }\n",
       "\n",
       "    .dataframe thead th {\n",
       "        text-align: right;\n",
       "    }\n",
       "</style>\n",
       "<table border=\"1\" class=\"dataframe\">\n",
       "  <thead>\n",
       "    <tr style=\"text-align: right;\">\n",
       "      <th></th>\n",
       "      <th>name</th>\n",
       "      <th>borough</th>\n",
       "      <th>address</th>\n",
       "    </tr>\n",
       "  </thead>\n",
       "  <tbody>\n",
       "    <tr>\n",
       "      <th>0</th>\n",
       "      <td>АСМ-АВ №10</td>\n",
       "      <td>Адмиралтейский район</td>\n",
       "      <td>Московский пр., дом 19</td>\n",
       "    </tr>\n",
       "    <tr>\n",
       "      <th>1</th>\n",
       "      <td>АСМ-АВ №24</td>\n",
       "      <td>Василеостровский район</td>\n",
       "      <td>В.О.Средний пр., дом 74</td>\n",
       "    </tr>\n",
       "    <tr>\n",
       "      <th>2</th>\n",
       "      <td>АСМ-АВ №6</td>\n",
       "      <td>Василеостровский район</td>\n",
       "      <td>пр. КИМа, дом 26 лит. А</td>\n",
       "    </tr>\n",
       "    <tr>\n",
       "      <th>3</th>\n",
       "      <td>АСМ-АВ №3</td>\n",
       "      <td>Выборгский район</td>\n",
       "      <td>ул. Карбышева, дом 7</td>\n",
       "    </tr>\n",
       "    <tr>\n",
       "      <th>4</th>\n",
       "      <td>АСМ-АВ №18</td>\n",
       "      <td>Калининский район</td>\n",
       "      <td>ул. Ольги Форш, дом 6</td>\n",
       "    </tr>\n",
       "  </tbody>\n",
       "</table>\n",
       "</div>"
      ],
      "text/plain": [
       "         name                 borough                  address\n",
       "0  АСМ-АВ №10    Адмиралтейский район   Московский пр., дом 19\n",
       "1  АСМ-АВ №24  Василеостровский район  В.О.Средний пр., дом 74\n",
       "2   АСМ-АВ №6  Василеостровский район  пр. КИМа, дом 26 лит. А\n",
       "3   АСМ-АВ №3        Выборгский район     ул. Карбышева, дом 7\n",
       "4  АСМ-АВ №18       Калининский район    ул. Ольги Форш, дом 6"
      ]
     },
     "execution_count": 1,
     "metadata": {},
     "output_type": "execute_result"
    }
   ],
   "source": [
    "import pandas as pd\n",
    "stations=pd.read_csv('eco_data/stations.csv',sep=';')\n",
    "stations.head()"
   ]
  },
  {
   "cell_type": "markdown",
   "metadata": {
    "pycharm": {
     "name": "#%% md\n"
    }
   },
   "source": [
    "Installing googlemaps package in order to get coordinates of each stations"
   ]
  },
  {
   "cell_type": "code",
   "execution_count": 2,
   "metadata": {
    "pycharm": {
     "name": "#%%\n"
    }
   },
   "outputs": [
    {
     "name": "stdout",
     "output_type": "stream",
     "text": [
      "Requirement already up-to-date: googlemaps in /Users/anastasiiapoplaukhina/.conda/envs/Coursera_Capstone/lib/python3.8/site-packages (4.4.1)\n",
      "Requirement already satisfied, skipping upgrade: requests<3.0,>=2.20.0 in /Users/anastasiiapoplaukhina/.conda/envs/Coursera_Capstone/lib/python3.8/site-packages (from googlemaps) (2.23.0)\n",
      "Requirement already satisfied, skipping upgrade: idna<3,>=2.5 in /Users/anastasiiapoplaukhina/.conda/envs/Coursera_Capstone/lib/python3.8/site-packages (from requests<3.0,>=2.20.0->googlemaps) (2.9)\n",
      "Requirement already satisfied, skipping upgrade: chardet<4,>=3.0.2 in /Users/anastasiiapoplaukhina/.conda/envs/Coursera_Capstone/lib/python3.8/site-packages (from requests<3.0,>=2.20.0->googlemaps) (3.0.4)\n",
      "Requirement already satisfied, skipping upgrade: certifi>=2017.4.17 in /Users/anastasiiapoplaukhina/.conda/envs/Coursera_Capstone/lib/python3.8/site-packages (from requests<3.0,>=2.20.0->googlemaps) (2020.4.5.1)\n",
      "Requirement already satisfied, skipping upgrade: urllib3!=1.25.0,!=1.25.1,<1.26,>=1.21.1 in /Users/anastasiiapoplaukhina/.conda/envs/Coursera_Capstone/lib/python3.8/site-packages (from requests<3.0,>=2.20.0->googlemaps) (1.25.8)\n"
     ]
    }
   ],
   "source": [
    "! pip install -U googlemaps"
   ]
  },
  {
   "cell_type": "markdown",
   "metadata": {
    "pycharm": {
     "name": "#%% md\n"
    }
   },
   "source": [
    "Connection to google maps"
   ]
  },
  {
   "cell_type": "code",
   "execution_count": 3,
   "metadata": {
    "pycharm": {
     "name": "#%%\n"
    }
   },
   "outputs": [],
   "source": [
    "import googlemaps\n",
    "f=open('temp/api_google_maps_key')\n",
    "mykey=f.read()\n",
    "mykey\n",
    "f.close()\n",
    "gmaps = googlemaps.Client(key=mykey)"
   ]
  },
  {
   "cell_type": "markdown",
   "metadata": {
    "pycharm": {
     "name": "#%% md\n"
    }
   },
   "source": [
    "Getting coordinates of each stations"
   ]
  },
  {
   "cell_type": "code",
   "execution_count": 4,
   "metadata": {
    "pycharm": {
     "name": "#%%\n"
    }
   },
   "outputs": [
    {
     "data": {
      "text/html": [
       "<div>\n",
       "<style scoped>\n",
       "    .dataframe tbody tr th:only-of-type {\n",
       "        vertical-align: middle;\n",
       "    }\n",
       "\n",
       "    .dataframe tbody tr th {\n",
       "        vertical-align: top;\n",
       "    }\n",
       "\n",
       "    .dataframe thead th {\n",
       "        text-align: right;\n",
       "    }\n",
       "</style>\n",
       "<table border=\"1\" class=\"dataframe\">\n",
       "  <thead>\n",
       "    <tr style=\"text-align: right;\">\n",
       "      <th></th>\n",
       "      <th>name</th>\n",
       "      <th>borough</th>\n",
       "      <th>address</th>\n",
       "      <th>lat</th>\n",
       "      <th>lng</th>\n",
       "    </tr>\n",
       "  </thead>\n",
       "  <tbody>\n",
       "    <tr>\n",
       "      <th>0</th>\n",
       "      <td>АСМ-АВ №10</td>\n",
       "      <td>Адмиралтейский район</td>\n",
       "      <td>Московский пр., дом 19</td>\n",
       "      <td>59.917980</td>\n",
       "      <td>30.316883</td>\n",
       "    </tr>\n",
       "    <tr>\n",
       "      <th>1</th>\n",
       "      <td>АСМ-АВ №24</td>\n",
       "      <td>Василеостровский район</td>\n",
       "      <td>В.О.Средний пр., дом 74</td>\n",
       "      <td>59.938864</td>\n",
       "      <td>30.262505</td>\n",
       "    </tr>\n",
       "    <tr>\n",
       "      <th>2</th>\n",
       "      <td>АСМ-АВ №6</td>\n",
       "      <td>Василеостровский район</td>\n",
       "      <td>пр. КИМа, дом 26 лит. А</td>\n",
       "      <td>59.953574</td>\n",
       "      <td>30.243792</td>\n",
       "    </tr>\n",
       "    <tr>\n",
       "      <th>3</th>\n",
       "      <td>АСМ-АВ №3</td>\n",
       "      <td>Выборгский район</td>\n",
       "      <td>ул. Карбышева, дом 7</td>\n",
       "      <td>59.992284</td>\n",
       "      <td>30.350745</td>\n",
       "    </tr>\n",
       "    <tr>\n",
       "      <th>4</th>\n",
       "      <td>АСМ-АВ №18</td>\n",
       "      <td>Калининский район</td>\n",
       "      <td>ул. Ольги Форш, дом 6</td>\n",
       "      <td>60.043028</td>\n",
       "      <td>30.392076</td>\n",
       "    </tr>\n",
       "  </tbody>\n",
       "</table>\n",
       "</div>"
      ],
      "text/plain": [
       "         name                 borough                  address        lat  \\\n",
       "0  АСМ-АВ №10    Адмиралтейский район   Московский пр., дом 19  59.917980   \n",
       "1  АСМ-АВ №24  Василеостровский район  В.О.Средний пр., дом 74  59.938864   \n",
       "2   АСМ-АВ №6  Василеостровский район  пр. КИМа, дом 26 лит. А  59.953574   \n",
       "3   АСМ-АВ №3        Выборгский район     ул. Карбышева, дом 7  59.992284   \n",
       "4  АСМ-АВ №18       Калининский район    ул. Ольги Форш, дом 6  60.043028   \n",
       "\n",
       "         lng  \n",
       "0  30.316883  \n",
       "1  30.262505  \n",
       "2  30.243792  \n",
       "3  30.350745  \n",
       "4  30.392076  "
      ]
     },
     "execution_count": 4,
     "metadata": {},
     "output_type": "execute_result"
    }
   ],
   "source": [
    "stations['lat']=0.0\n",
    "stations['lng']=0.0\n",
    "for i in range(len(stations)):\n",
    "    geocode_result = gmaps.geocode('Санкт-Петербург, '+stations.loc[i,'address'])\n",
    "    stations.loc[i,'lat']=geocode_result[0]['geometry']['location']['lat']\n",
    "    stations.loc[i,'lng']=geocode_result[0]['geometry']['location']['lng']\n",
    "\n",
    "stations.head()"
   ]
  },
  {
   "cell_type": "markdown",
   "metadata": {
    "pycharm": {
     "name": "#%% md\n"
    }
   },
   "source": [
    "We need coordinates of St. Petersburg if we want to create a map."
   ]
  },
  {
   "cell_type": "code",
   "execution_count": 5,
   "metadata": {
    "pycharm": {
     "name": "#%%\n"
    }
   },
   "outputs": [
    {
     "name": "stdout",
     "output_type": "stream",
     "text": [
      "Coordinates of St.Petersburg are 59.9489663 ,  30.3748283\n"
     ]
    }
   ],
   "source": [
    "geocode_piter = gmaps.geocode('Санкт-Петербург')\n",
    "piter_lat=geocode_result[0]['geometry']['location']['lat']\n",
    "piter_lng=geocode_result[0]['geometry']['location']['lng']\n",
    "print('Coordinates of St.Petersburg are',piter_lat,', ',piter_lng)"
   ]
  },
  {
   "cell_type": "markdown",
   "metadata": {},
   "source": [
    "After that I create a map with all the stations using Folium"
   ]
  },
  {
   "cell_type": "code",
   "execution_count": 6,
   "metadata": {
    "pycharm": {
     "name": "#%%\n"
    }
   },
   "outputs": [
    {
     "data": {
      "text/html": [
       "<div style=\"width:100%;\"><div style=\"position:relative;width:100%;height:0;padding-bottom:60%;\"><span style=\"color:#565656\">Make this Notebook Trusted to load map: File -> Trust Notebook</span><iframe src=\"about:blank\" style=\"position:absolute;width:100%;height:100%;left:0;top:0;border:none !important;\" data-html=PCFET0NUWVBFIGh0bWw+CjxoZWFkPiAgICAKICAgIDxtZXRhIGh0dHAtZXF1aXY9ImNvbnRlbnQtdHlwZSIgY29udGVudD0idGV4dC9odG1sOyBjaGFyc2V0PVVURi04IiAvPgogICAgPHNjcmlwdD5MX1BSRUZFUl9DQU5WQVMgPSBmYWxzZTsgTF9OT19UT1VDSCA9IGZhbHNlOyBMX0RJU0FCTEVfM0QgPSBmYWxzZTs8L3NjcmlwdD4KICAgIDxzY3JpcHQgc3JjPSJodHRwczovL2Nkbi5qc2RlbGl2ci5uZXQvbnBtL2xlYWZsZXRAMS4yLjAvZGlzdC9sZWFmbGV0LmpzIj48L3NjcmlwdD4KICAgIDxzY3JpcHQgc3JjPSJodHRwczovL2FqYXguZ29vZ2xlYXBpcy5jb20vYWpheC9saWJzL2pxdWVyeS8xLjExLjEvanF1ZXJ5Lm1pbi5qcyI+PC9zY3JpcHQ+CiAgICA8c2NyaXB0IHNyYz0iaHR0cHM6Ly9tYXhjZG4uYm9vdHN0cmFwY2RuLmNvbS9ib290c3RyYXAvMy4yLjAvanMvYm9vdHN0cmFwLm1pbi5qcyI+PC9zY3JpcHQ+CiAgICA8c2NyaXB0IHNyYz0iaHR0cHM6Ly9jZG5qcy5jbG91ZGZsYXJlLmNvbS9hamF4L2xpYnMvTGVhZmxldC5hd2Vzb21lLW1hcmtlcnMvMi4wLjIvbGVhZmxldC5hd2Vzb21lLW1hcmtlcnMuanMiPjwvc2NyaXB0PgogICAgPGxpbmsgcmVsPSJzdHlsZXNoZWV0IiBocmVmPSJodHRwczovL2Nkbi5qc2RlbGl2ci5uZXQvbnBtL2xlYWZsZXRAMS4yLjAvZGlzdC9sZWFmbGV0LmNzcyIvPgogICAgPGxpbmsgcmVsPSJzdHlsZXNoZWV0IiBocmVmPSJodHRwczovL21heGNkbi5ib290c3RyYXBjZG4uY29tL2Jvb3RzdHJhcC8zLjIuMC9jc3MvYm9vdHN0cmFwLm1pbi5jc3MiLz4KICAgIDxsaW5rIHJlbD0ic3R5bGVzaGVldCIgaHJlZj0iaHR0cHM6Ly9tYXhjZG4uYm9vdHN0cmFwY2RuLmNvbS9ib290c3RyYXAvMy4yLjAvY3NzL2Jvb3RzdHJhcC10aGVtZS5taW4uY3NzIi8+CiAgICA8bGluayByZWw9InN0eWxlc2hlZXQiIGhyZWY9Imh0dHBzOi8vbWF4Y2RuLmJvb3RzdHJhcGNkbi5jb20vZm9udC1hd2Vzb21lLzQuNi4zL2Nzcy9mb250LWF3ZXNvbWUubWluLmNzcyIvPgogICAgPGxpbmsgcmVsPSJzdHlsZXNoZWV0IiBocmVmPSJodHRwczovL2NkbmpzLmNsb3VkZmxhcmUuY29tL2FqYXgvbGlicy9MZWFmbGV0LmF3ZXNvbWUtbWFya2Vycy8yLjAuMi9sZWFmbGV0LmF3ZXNvbWUtbWFya2Vycy5jc3MiLz4KICAgIDxsaW5rIHJlbD0ic3R5bGVzaGVldCIgaHJlZj0iaHR0cHM6Ly9yYXdnaXQuY29tL3B5dGhvbi12aXN1YWxpemF0aW9uL2ZvbGl1bS9tYXN0ZXIvZm9saXVtL3RlbXBsYXRlcy9sZWFmbGV0LmF3ZXNvbWUucm90YXRlLmNzcyIvPgogICAgPHN0eWxlPmh0bWwsIGJvZHkge3dpZHRoOiAxMDAlO2hlaWdodDogMTAwJTttYXJnaW46IDA7cGFkZGluZzogMDt9PC9zdHlsZT4KICAgIDxzdHlsZT4jbWFwIHtwb3NpdGlvbjphYnNvbHV0ZTt0b3A6MDtib3R0b206MDtyaWdodDowO2xlZnQ6MDt9PC9zdHlsZT4KICAgIAogICAgICAgICAgICA8c3R5bGU+ICNtYXBfZGNiZjdlNTllMTViNGVhZWFjNGExMWU0NGNkM2ZlZGUgewogICAgICAgICAgICAgICAgcG9zaXRpb24gOiByZWxhdGl2ZTsKICAgICAgICAgICAgICAgIHdpZHRoIDogMTAwLjAlOwogICAgICAgICAgICAgICAgaGVpZ2h0OiAxMDAuMCU7CiAgICAgICAgICAgICAgICBsZWZ0OiAwLjAlOwogICAgICAgICAgICAgICAgdG9wOiAwLjAlOwogICAgICAgICAgICAgICAgfQogICAgICAgICAgICA8L3N0eWxlPgogICAgICAgIAo8L2hlYWQ+Cjxib2R5PiAgICAKICAgIAogICAgICAgICAgICA8ZGl2IGNsYXNzPSJmb2xpdW0tbWFwIiBpZD0ibWFwX2RjYmY3ZTU5ZTE1YjRlYWVhYzRhMTFlNDRjZDNmZWRlIiA+PC9kaXY+CiAgICAgICAgCjwvYm9keT4KPHNjcmlwdD4gICAgCiAgICAKCiAgICAgICAgICAgIAogICAgICAgICAgICAgICAgdmFyIGJvdW5kcyA9IG51bGw7CiAgICAgICAgICAgIAoKICAgICAgICAgICAgdmFyIG1hcF9kY2JmN2U1OWUxNWI0ZWFlYWM0YTExZTQ0Y2QzZmVkZSA9IEwubWFwKAogICAgICAgICAgICAgICAgICAgICAgICAgICAgICAgICAgJ21hcF9kY2JmN2U1OWUxNWI0ZWFlYWM0YTExZTQ0Y2QzZmVkZScsCiAgICAgICAgICAgICAgICAgICAgICAgICAgICAgICAgICB7Y2VudGVyOiBbNTkuOTQ4OTY2MywzMC4zNzQ4MjgzXSwKICAgICAgICAgICAgICAgICAgICAgICAgICAgICAgICAgIHpvb206IDksCiAgICAgICAgICAgICAgICAgICAgICAgICAgICAgICAgICBtYXhCb3VuZHM6IGJvdW5kcywKICAgICAgICAgICAgICAgICAgICAgICAgICAgICAgICAgIGxheWVyczogW10sCiAgICAgICAgICAgICAgICAgICAgICAgICAgICAgICAgICB3b3JsZENvcHlKdW1wOiBmYWxzZSwKICAgICAgICAgICAgICAgICAgICAgICAgICAgICAgICAgIGNyczogTC5DUlMuRVBTRzM4NTcKICAgICAgICAgICAgICAgICAgICAgICAgICAgICAgICAgfSk7CiAgICAgICAgICAgIAogICAgICAgIAogICAgCiAgICAgICAgICAgIHZhciB0aWxlX2xheWVyXzJiMjkxMzQ5MGQ5OTQ2MmRhMTYwYzc1N2M1OGQ5ZDM3ID0gTC50aWxlTGF5ZXIoCiAgICAgICAgICAgICAgICAnaHR0cHM6Ly97c30udGlsZS5vcGVuc3RyZWV0bWFwLm9yZy97en0ve3h9L3t5fS5wbmcnLAogICAgICAgICAgICAgICAgewogICJhdHRyaWJ1dGlvbiI6IG51bGwsCiAgImRldGVjdFJldGluYSI6IGZhbHNlLAogICJtYXhab29tIjogMTgsCiAgIm1pblpvb20iOiAxLAogICJub1dyYXAiOiBmYWxzZSwKICAic3ViZG9tYWlucyI6ICJhYmMiCn0KICAgICAgICAgICAgICAgICkuYWRkVG8obWFwX2RjYmY3ZTU5ZTE1YjRlYWVhYzRhMTFlNDRjZDNmZWRlKTsKICAgICAgICAKICAgIAogICAgICAgICAgICB2YXIgY2lyY2xlX21hcmtlcl9iMjc3ZmNlY2E1MWM0N2I2YjBlZGZhY2Q2NzJkNTRiZCA9IEwuY2lyY2xlTWFya2VyKAogICAgICAgICAgICAgICAgWzU5LjkxNzk4LDMwLjMxNjg4MjldLAogICAgICAgICAgICAgICAgewogICJidWJibGluZ01vdXNlRXZlbnRzIjogdHJ1ZSwKICAiY29sb3IiOiAiYmx1ZSIsCiAgImRhc2hBcnJheSI6IG51bGwsCiAgImRhc2hPZmZzZXQiOiBudWxsLAogICJmaWxsIjogdHJ1ZSwKICAiZmlsbENvbG9yIjogIiMzMTg2Y2MiLAogICJmaWxsT3BhY2l0eSI6IDAuNywKICAiZmlsbFJ1bGUiOiAiZXZlbm9kZCIsCiAgImxpbmVDYXAiOiAicm91bmQiLAogICJsaW5lSm9pbiI6ICJyb3VuZCIsCiAgIm9wYWNpdHkiOiAxLjAsCiAgInJhZGl1cyI6IDUsCiAgInN0cm9rZSI6IHRydWUsCiAgIndlaWdodCI6IDMKfQogICAgICAgICAgICAgICAgKS5hZGRUbyhtYXBfZGNiZjdlNTllMTViNGVhZWFjNGExMWU0NGNkM2ZlZGUpOwogICAgICAgICAgICAKICAgIAogICAgICAgICAgICB2YXIgcG9wdXBfM2RjMTJkMTFmMTZkNDc5OTkwMjY3MGFkNDA4MjcxNWMgPSBMLnBvcHVwKHttYXhXaWR0aDogJzMwMCd9KTsKCiAgICAgICAgICAgIAogICAgICAgICAgICAgICAgdmFyIGh0bWxfZjExZDdhZmM5NWFlNGQwZGJiZTQ1N2EyNTEwNWZmNGIgPSAkKCc8ZGl2IGlkPSJodG1sX2YxMWQ3YWZjOTVhZTRkMGRiYmU0NTdhMjUxMDVmZjRiIiBzdHlsZT0id2lkdGg6IDEwMC4wJTsgaGVpZ2h0OiAxMDAuMCU7Ij7QkNCh0Jwt0JDQkiDihJYxMDwvZGl2PicpWzBdOwogICAgICAgICAgICAgICAgcG9wdXBfM2RjMTJkMTFmMTZkNDc5OTkwMjY3MGFkNDA4MjcxNWMuc2V0Q29udGVudChodG1sX2YxMWQ3YWZjOTVhZTRkMGRiYmU0NTdhMjUxMDVmZjRiKTsKICAgICAgICAgICAgCgogICAgICAgICAgICBjaXJjbGVfbWFya2VyX2IyNzdmY2VjYTUxYzQ3YjZiMGVkZmFjZDY3MmQ1NGJkLmJpbmRQb3B1cChwb3B1cF8zZGMxMmQxMWYxNmQ0Nzk5OTAyNjcwYWQ0MDgyNzE1Yyk7CgogICAgICAgICAgICAKICAgICAgICAKICAgIAogICAgICAgICAgICB2YXIgY2lyY2xlX21hcmtlcl9jZGYwNzQ5MGYyMzA0YWY2ODMxM2IyN2U5YzE4MThkNyA9IEwuY2lyY2xlTWFya2VyKAogICAgICAgICAgICAgICAgWzU5LjkzODg2MzYsMzAuMjYyNTA0Njk5OTk5OTldLAogICAgICAgICAgICAgICAgewogICJidWJibGluZ01vdXNlRXZlbnRzIjogdHJ1ZSwKICAiY29sb3IiOiAiYmx1ZSIsCiAgImRhc2hBcnJheSI6IG51bGwsCiAgImRhc2hPZmZzZXQiOiBudWxsLAogICJmaWxsIjogdHJ1ZSwKICAiZmlsbENvbG9yIjogIiMzMTg2Y2MiLAogICJmaWxsT3BhY2l0eSI6IDAuNywKICAiZmlsbFJ1bGUiOiAiZXZlbm9kZCIsCiAgImxpbmVDYXAiOiAicm91bmQiLAogICJsaW5lSm9pbiI6ICJyb3VuZCIsCiAgIm9wYWNpdHkiOiAxLjAsCiAgInJhZGl1cyI6IDUsCiAgInN0cm9rZSI6IHRydWUsCiAgIndlaWdodCI6IDMKfQogICAgICAgICAgICAgICAgKS5hZGRUbyhtYXBfZGNiZjdlNTllMTViNGVhZWFjNGExMWU0NGNkM2ZlZGUpOwogICAgICAgICAgICAKICAgIAogICAgICAgICAgICB2YXIgcG9wdXBfZDE3MDM5NmY1MTdmNGE2MDg2NWZiNDY4YjM0ZTkyY2UgPSBMLnBvcHVwKHttYXhXaWR0aDogJzMwMCd9KTsKCiAgICAgICAgICAgIAogICAgICAgICAgICAgICAgdmFyIGh0bWxfMTdiZGIxNTEyY2Q3NDI0NGEyZjQ5YzFlYzg4MjIwYmUgPSAkKCc8ZGl2IGlkPSJodG1sXzE3YmRiMTUxMmNkNzQyNDRhMmY0OWMxZWM4ODIyMGJlIiBzdHlsZT0id2lkdGg6IDEwMC4wJTsgaGVpZ2h0OiAxMDAuMCU7Ij7QkNCh0Jwt0JDQkiDihJYyNDwvZGl2PicpWzBdOwogICAgICAgICAgICAgICAgcG9wdXBfZDE3MDM5NmY1MTdmNGE2MDg2NWZiNDY4YjM0ZTkyY2Uuc2V0Q29udGVudChodG1sXzE3YmRiMTUxMmNkNzQyNDRhMmY0OWMxZWM4ODIyMGJlKTsKICAgICAgICAgICAgCgogICAgICAgICAgICBjaXJjbGVfbWFya2VyX2NkZjA3NDkwZjIzMDRhZjY4MzEzYjI3ZTljMTgxOGQ3LmJpbmRQb3B1cChwb3B1cF9kMTcwMzk2ZjUxN2Y0YTYwODY1ZmI0NjhiMzRlOTJjZSk7CgogICAgICAgICAgICAKICAgICAgICAKICAgIAogICAgICAgICAgICB2YXIgY2lyY2xlX21hcmtlcl9kZmVhMGFkMzEwN2Y0MWM5YjQ0ZDVlNDlkMDY3YzJmYSA9IEwuY2lyY2xlTWFya2VyKAogICAgICAgICAgICAgICAgWzU5Ljk1MzU3NCwzMC4yNDM3OTE5XSwKICAgICAgICAgICAgICAgIHsKICAiYnViYmxpbmdNb3VzZUV2ZW50cyI6IHRydWUsCiAgImNvbG9yIjogImJsdWUiLAogICJkYXNoQXJyYXkiOiBudWxsLAogICJkYXNoT2Zmc2V0IjogbnVsbCwKICAiZmlsbCI6IHRydWUsCiAgImZpbGxDb2xvciI6ICIjMzE4NmNjIiwKICAiZmlsbE9wYWNpdHkiOiAwLjcsCiAgImZpbGxSdWxlIjogImV2ZW5vZGQiLAogICJsaW5lQ2FwIjogInJvdW5kIiwKICAibGluZUpvaW4iOiAicm91bmQiLAogICJvcGFjaXR5IjogMS4wLAogICJyYWRpdXMiOiA1LAogICJzdHJva2UiOiB0cnVlLAogICJ3ZWlnaHQiOiAzCn0KICAgICAgICAgICAgICAgICkuYWRkVG8obWFwX2RjYmY3ZTU5ZTE1YjRlYWVhYzRhMTFlNDRjZDNmZWRlKTsKICAgICAgICAgICAgCiAgICAKICAgICAgICAgICAgdmFyIHBvcHVwXzczYzk4YTMyNGMwMDRmNmE4Yzc4YTE5YjU3MDRjNTI3ID0gTC5wb3B1cCh7bWF4V2lkdGg6ICczMDAnfSk7CgogICAgICAgICAgICAKICAgICAgICAgICAgICAgIHZhciBodG1sX2E2NzNmOTI5ZjM0YjQzMTk5OWIzYmY2Mzc1MGFhMzdkID0gJCgnPGRpdiBpZD0iaHRtbF9hNjczZjkyOWYzNGI0MzE5OTliM2JmNjM3NTBhYTM3ZCIgc3R5bGU9IndpZHRoOiAxMDAuMCU7IGhlaWdodDogMTAwLjAlOyI+0JDQodCcLdCQ0JIg4oSWNjwvZGl2PicpWzBdOwogICAgICAgICAgICAgICAgcG9wdXBfNzNjOThhMzI0YzAwNGY2YThjNzhhMTliNTcwNGM1Mjcuc2V0Q29udGVudChodG1sX2E2NzNmOTI5ZjM0YjQzMTk5OWIzYmY2Mzc1MGFhMzdkKTsKICAgICAgICAgICAgCgogICAgICAgICAgICBjaXJjbGVfbWFya2VyX2RmZWEwYWQzMTA3ZjQxYzliNDRkNWU0OWQwNjdjMmZhLmJpbmRQb3B1cChwb3B1cF83M2M5OGEzMjRjMDA0ZjZhOGM3OGExOWI1NzA0YzUyNyk7CgogICAgICAgICAgICAKICAgICAgICAKICAgIAogICAgICAgICAgICB2YXIgY2lyY2xlX21hcmtlcl9jMWMxZTY4MjFiNjQ0MTFjOTU5ZmM2MjNkNTMzNDgyNSA9IEwuY2lyY2xlTWFya2VyKAogICAgICAgICAgICAgICAgWzU5Ljk5MjI4Mzk5OTk5OTk5LDMwLjM1MDc0NV0sCiAgICAgICAgICAgICAgICB7CiAgImJ1YmJsaW5nTW91c2VFdmVudHMiOiB0cnVlLAogICJjb2xvciI6ICJibHVlIiwKICAiZGFzaEFycmF5IjogbnVsbCwKICAiZGFzaE9mZnNldCI6IG51bGwsCiAgImZpbGwiOiB0cnVlLAogICJmaWxsQ29sb3IiOiAiIzMxODZjYyIsCiAgImZpbGxPcGFjaXR5IjogMC43LAogICJmaWxsUnVsZSI6ICJldmVub2RkIiwKICAibGluZUNhcCI6ICJyb3VuZCIsCiAgImxpbmVKb2luIjogInJvdW5kIiwKICAib3BhY2l0eSI6IDEuMCwKICAicmFkaXVzIjogNSwKICAic3Ryb2tlIjogdHJ1ZSwKICAid2VpZ2h0IjogMwp9CiAgICAgICAgICAgICAgICApLmFkZFRvKG1hcF9kY2JmN2U1OWUxNWI0ZWFlYWM0YTExZTQ0Y2QzZmVkZSk7CiAgICAgICAgICAgIAogICAgCiAgICAgICAgICAgIHZhciBwb3B1cF84ZTk2MGRjNWZmMjY0MTlhOTMzMTZjZmMwYjE2NDBjYSA9IEwucG9wdXAoe21heFdpZHRoOiAnMzAwJ30pOwoKICAgICAgICAgICAgCiAgICAgICAgICAgICAgICB2YXIgaHRtbF84NWY2MGY1MGI0ZmQ0OTMyOWRiODk0NTU3YjUyNTBhMyA9ICQoJzxkaXYgaWQ9Imh0bWxfODVmNjBmNTBiNGZkNDkzMjlkYjg5NDU1N2I1MjUwYTMiIHN0eWxlPSJ3aWR0aDogMTAwLjAlOyBoZWlnaHQ6IDEwMC4wJTsiPtCQ0KHQnC3QkNCSIOKEljM8L2Rpdj4nKVswXTsKICAgICAgICAgICAgICAgIHBvcHVwXzhlOTYwZGM1ZmYyNjQxOWE5MzMxNmNmYzBiMTY0MGNhLnNldENvbnRlbnQoaHRtbF84NWY2MGY1MGI0ZmQ0OTMyOWRiODk0NTU3YjUyNTBhMyk7CiAgICAgICAgICAgIAoKICAgICAgICAgICAgY2lyY2xlX21hcmtlcl9jMWMxZTY4MjFiNjQ0MTFjOTU5ZmM2MjNkNTMzNDgyNS5iaW5kUG9wdXAocG9wdXBfOGU5NjBkYzVmZjI2NDE5YTkzMzE2Y2ZjMGIxNjQwY2EpOwoKICAgICAgICAgICAgCiAgICAgICAgCiAgICAKICAgICAgICAgICAgdmFyIGNpcmNsZV9tYXJrZXJfM2E3MWIxOGMyNDM5NDRhODhmNGI1MmU5NjZhYzlhMDcgPSBMLmNpcmNsZU1hcmtlcigKICAgICAgICAgICAgICAgIFs2MC4wNDMwMjgwMDAwMDAwMSwzMC4zOTIwNzZdLAogICAgICAgICAgICAgICAgewogICJidWJibGluZ01vdXNlRXZlbnRzIjogdHJ1ZSwKICAiY29sb3IiOiAiYmx1ZSIsCiAgImRhc2hBcnJheSI6IG51bGwsCiAgImRhc2hPZmZzZXQiOiBudWxsLAogICJmaWxsIjogdHJ1ZSwKICAiZmlsbENvbG9yIjogIiMzMTg2Y2MiLAogICJmaWxsT3BhY2l0eSI6IDAuNywKICAiZmlsbFJ1bGUiOiAiZXZlbm9kZCIsCiAgImxpbmVDYXAiOiAicm91bmQiLAogICJsaW5lSm9pbiI6ICJyb3VuZCIsCiAgIm9wYWNpdHkiOiAxLjAsCiAgInJhZGl1cyI6IDUsCiAgInN0cm9rZSI6IHRydWUsCiAgIndlaWdodCI6IDMKfQogICAgICAgICAgICAgICAgKS5hZGRUbyhtYXBfZGNiZjdlNTllMTViNGVhZWFjNGExMWU0NGNkM2ZlZGUpOwogICAgICAgICAgICAKICAgIAogICAgICAgICAgICB2YXIgcG9wdXBfNjgzY2I2NmNkMjY0NGNmMmIyYTE1ZjE5NWQyMTk4YTEgPSBMLnBvcHVwKHttYXhXaWR0aDogJzMwMCd9KTsKCiAgICAgICAgICAgIAogICAgICAgICAgICAgICAgdmFyIGh0bWxfODcyOGYyYzg3MTk5NGQ0MTg1MDA3ZjQyOTk2ZDA0OWUgPSAkKCc8ZGl2IGlkPSJodG1sXzg3MjhmMmM4NzE5OTRkNDE4NTAwN2Y0Mjk5NmQwNDllIiBzdHlsZT0id2lkdGg6IDEwMC4wJTsgaGVpZ2h0OiAxMDAuMCU7Ij7QkNCh0Jwt0JDQkiDihJYxODwvZGl2PicpWzBdOwogICAgICAgICAgICAgICAgcG9wdXBfNjgzY2I2NmNkMjY0NGNmMmIyYTE1ZjE5NWQyMTk4YTEuc2V0Q29udGVudChodG1sXzg3MjhmMmM4NzE5OTRkNDE4NTAwN2Y0Mjk5NmQwNDllKTsKICAgICAgICAgICAgCgogICAgICAgICAgICBjaXJjbGVfbWFya2VyXzNhNzFiMThjMjQzOTQ0YTg4ZjRiNTJlOTY2YWM5YTA3LmJpbmRQb3B1cChwb3B1cF82ODNjYjY2Y2QyNjQ0Y2YyYjJhMTVmMTk1ZDIxOThhMSk7CgogICAgICAgICAgICAKICAgICAgICAKICAgIAogICAgICAgICAgICB2YXIgY2lyY2xlX21hcmtlcl9lMTdkYTY1ODU4MjM0MTkwYTFlOWEwOGRjMzdlOGU4YyA9IEwuY2lyY2xlTWFya2VyKAogICAgICAgICAgICAgICAgWzU5Ljg1NjYyNTgsMzAuMjI5OTY5NV0sCiAgICAgICAgICAgICAgICB7CiAgImJ1YmJsaW5nTW91c2VFdmVudHMiOiB0cnVlLAogICJjb2xvciI6ICJibHVlIiwKICAiZGFzaEFycmF5IjogbnVsbCwKICAiZGFzaE9mZnNldCI6IG51bGwsCiAgImZpbGwiOiB0cnVlLAogICJmaWxsQ29sb3IiOiAiIzMxODZjYyIsCiAgImZpbGxPcGFjaXR5IjogMC43LAogICJmaWxsUnVsZSI6ICJldmVub2RkIiwKICAibGluZUNhcCI6ICJyb3VuZCIsCiAgImxpbmVKb2luIjogInJvdW5kIiwKICAib3BhY2l0eSI6IDEuMCwKICAicmFkaXVzIjogNSwKICAic3Ryb2tlIjogdHJ1ZSwKICAid2VpZ2h0IjogMwp9CiAgICAgICAgICAgICAgICApLmFkZFRvKG1hcF9kY2JmN2U1OWUxNWI0ZWFlYWM0YTExZTQ0Y2QzZmVkZSk7CiAgICAgICAgICAgIAogICAgCiAgICAgICAgICAgIHZhciBwb3B1cF9kODdmNTc2MGZhZWE0NGU4YTY2YWRiZWJlOWQ3OWNlNyA9IEwucG9wdXAoe21heFdpZHRoOiAnMzAwJ30pOwoKICAgICAgICAgICAgCiAgICAgICAgICAgICAgICB2YXIgaHRtbF82NDAyMmEyNDNmM2Y0OWQxOWUzNTE5NzRkYzY5YTczNyA9ICQoJzxkaXYgaWQ9Imh0bWxfNjQwMjJhMjQzZjNmNDlkMTllMzUxOTc0ZGM2OWE3MzciIHN0eWxlPSJ3aWR0aDogMTAwLjAlOyBoZWlnaHQ6IDEwMC4wJTsiPtCQ0KHQnC3QkNCSIOKEljU8L2Rpdj4nKVswXTsKICAgICAgICAgICAgICAgIHBvcHVwX2Q4N2Y1NzYwZmFlYTQ0ZThhNjZhZGJlYmU5ZDc5Y2U3LnNldENvbnRlbnQoaHRtbF82NDAyMmEyNDNmM2Y0OWQxOWUzNTE5NzRkYzY5YTczNyk7CiAgICAgICAgICAgIAoKICAgICAgICAgICAgY2lyY2xlX21hcmtlcl9lMTdkYTY1ODU4MjM0MTkwYTFlOWEwOGRjMzdlOGU4Yy5iaW5kUG9wdXAocG9wdXBfZDg3ZjU3NjBmYWVhNDRlOGE2NmFkYmViZTlkNzljZTcpOwoKICAgICAgICAgICAgCiAgICAgICAgCiAgICAKICAgICAgICAgICAgdmFyIGNpcmNsZV9tYXJrZXJfZGIwZTI3MmMxYjRiNDQxODhlM2RkZjgxZTU3NDJiZGIgPSBMLmNpcmNsZU1hcmtlcigKICAgICAgICAgICAgICAgIFs1OS45MDI5ODIsMzAuMjE4OTUwMV0sCiAgICAgICAgICAgICAgICB7CiAgImJ1YmJsaW5nTW91c2VFdmVudHMiOiB0cnVlLAogICJjb2xvciI6ICJibHVlIiwKICAiZGFzaEFycmF5IjogbnVsbCwKICAiZGFzaE9mZnNldCI6IG51bGwsCiAgImZpbGwiOiB0cnVlLAogICJmaWxsQ29sb3IiOiAiIzMxODZjYyIsCiAgImZpbGxPcGFjaXR5IjogMC43LAogICJmaWxsUnVsZSI6ICJldmVub2RkIiwKICAibGluZUNhcCI6ICJyb3VuZCIsCiAgImxpbmVKb2luIjogInJvdW5kIiwKICAib3BhY2l0eSI6IDEuMCwKICAicmFkaXVzIjogNSwKICAic3Ryb2tlIjogdHJ1ZSwKICAid2VpZ2h0IjogMwp9CiAgICAgICAgICAgICAgICApLmFkZFRvKG1hcF9kY2JmN2U1OWUxNWI0ZWFlYWM0YTExZTQ0Y2QzZmVkZSk7CiAgICAgICAgICAgIAogICAgCiAgICAgICAgICAgIHZhciBwb3B1cF9jZTJiM2ZiMjk4OWY0NDI3YWVmOWZiOGJmOGUxNmM1MyA9IEwucG9wdXAoe21heFdpZHRoOiAnMzAwJ30pOwoKICAgICAgICAgICAgCiAgICAgICAgICAgICAgICB2YXIgaHRtbF9mNzQxYmM1YTVkMDc0ZDM3YjY0YWM4Mzc3NzQ0ZjMxNCA9ICQoJzxkaXYgaWQ9Imh0bWxfZjc0MWJjNWE1ZDA3NGQzN2I2NGFjODM3Nzc0NGYzMTQiIHN0eWxlPSJ3aWR0aDogMTAwLjAlOyBoZWlnaHQ6IDEwMC4wJTsiPtCQ0KHQnC3QkNCSIOKEljIyPC9kaXY+JylbMF07CiAgICAgICAgICAgICAgICBwb3B1cF9jZTJiM2ZiMjk4OWY0NDI3YWVmOWZiOGJmOGUxNmM1My5zZXRDb250ZW50KGh0bWxfZjc0MWJjNWE1ZDA3NGQzN2I2NGFjODM3Nzc0NGYzMTQpOwogICAgICAgICAgICAKCiAgICAgICAgICAgIGNpcmNsZV9tYXJrZXJfZGIwZTI3MmMxYjRiNDQxODhlM2RkZjgxZTU3NDJiZGIuYmluZFBvcHVwKHBvcHVwX2NlMmIzZmIyOTg5ZjQ0MjdhZWY5ZmI4YmY4ZTE2YzUzKTsKCiAgICAgICAgICAgIAogICAgICAgIAogICAgCiAgICAgICAgICAgIHZhciBjaXJjbGVfbWFya2VyX2Q5YTllMjY2OTQ5NDQ1NGU4ZTJmYmZlYThlZTYxYmQ3ID0gTC5jaXJjbGVNYXJrZXIoCiAgICAgICAgICAgICAgICBbNTkuNzQ2MTYyOTk5OTk5OTksMzAuNjAxMjY5XSwKICAgICAgICAgICAgICAgIHsKICAiYnViYmxpbmdNb3VzZUV2ZW50cyI6IHRydWUsCiAgImNvbG9yIjogImJsdWUiLAogICJkYXNoQXJyYXkiOiBudWxsLAogICJkYXNoT2Zmc2V0IjogbnVsbCwKICAiZmlsbCI6IHRydWUsCiAgImZpbGxDb2xvciI6ICIjMzE4NmNjIiwKICAiZmlsbE9wYWNpdHkiOiAwLjcsCiAgImZpbGxSdWxlIjogImV2ZW5vZGQiLAogICJsaW5lQ2FwIjogInJvdW5kIiwKICAibGluZUpvaW4iOiAicm91bmQiLAogICJvcGFjaXR5IjogMS4wLAogICJyYWRpdXMiOiA1LAogICJzdHJva2UiOiB0cnVlLAogICJ3ZWlnaHQiOiAzCn0KICAgICAgICAgICAgICAgICkuYWRkVG8obWFwX2RjYmY3ZTU5ZTE1YjRlYWVhYzRhMTFlNDRjZDNmZWRlKTsKICAgICAgICAgICAgCiAgICAKICAgICAgICAgICAgdmFyIHBvcHVwXzM0ODg2MjBlY2JlZTQyYjZiYmI5MGZlY2NmMjgxOWFhID0gTC5wb3B1cCh7bWF4V2lkdGg6ICczMDAnfSk7CgogICAgICAgICAgICAKICAgICAgICAgICAgICAgIHZhciBodG1sXzEzZmNjM2NmN2Y2ODQxYWY5YWYzZTFjYTU2OWRkNjQ3ID0gJCgnPGRpdiBpZD0iaHRtbF8xM2ZjYzNjZjdmNjg0MWFmOWFmM2UxY2E1NjlkZDY0NyIgc3R5bGU9IndpZHRoOiAxMDAuMCU7IGhlaWdodDogMTAwLjAlOyI+0JDQodCcLdCQ0JIg4oSWMjwvZGl2PicpWzBdOwogICAgICAgICAgICAgICAgcG9wdXBfMzQ4ODYyMGVjYmVlNDJiNmJiYjkwZmVjY2YyODE5YWEuc2V0Q29udGVudChodG1sXzEzZmNjM2NmN2Y2ODQxYWY5YWYzZTFjYTU2OWRkNjQ3KTsKICAgICAgICAgICAgCgogICAgICAgICAgICBjaXJjbGVfbWFya2VyX2Q5YTllMjY2OTQ5NDQ1NGU4ZTJmYmZlYThlZTYxYmQ3LmJpbmRQb3B1cChwb3B1cF8zNDg4NjIwZWNiZWU0MmI2YmJiOTBmZWNjZjI4MTlhYSk7CgogICAgICAgICAgICAKICAgICAgICAKICAgIAogICAgICAgICAgICB2YXIgY2lyY2xlX21hcmtlcl9jZDk0YzlhMThlMmQ0YmJkYTMyMTcwNmM2OWY2ZjQwZCA9IEwuY2lyY2xlTWFya2VyKAogICAgICAgICAgICAgICAgWzU5LjgwNzk1NiwzMC41Njc5NTgwOTk5OTk5OV0sCiAgICAgICAgICAgICAgICB7CiAgImJ1YmJsaW5nTW91c2VFdmVudHMiOiB0cnVlLAogICJjb2xvciI6ICJibHVlIiwKICAiZGFzaEFycmF5IjogbnVsbCwKICAiZGFzaE9mZnNldCI6IG51bGwsCiAgImZpbGwiOiB0cnVlLAogICJmaWxsQ29sb3IiOiAiIzMxODZjYyIsCiAgImZpbGxPcGFjaXR5IjogMC43LAogICJmaWxsUnVsZSI6ICJldmVub2RkIiwKICAibGluZUNhcCI6ICJyb3VuZCIsCiAgImxpbmVKb2luIjogInJvdW5kIiwKICAib3BhY2l0eSI6IDEuMCwKICAicmFkaXVzIjogNSwKICAic3Ryb2tlIjogdHJ1ZSwKICAid2VpZ2h0IjogMwp9CiAgICAgICAgICAgICAgICApLmFkZFRvKG1hcF9kY2JmN2U1OWUxNWI0ZWFlYWM0YTExZTQ0Y2QzZmVkZSk7CiAgICAgICAgICAgIAogICAgCiAgICAgICAgICAgIHZhciBwb3B1cF9hZjY2MGY5OThmNDE0NmQwYmJjYTZiZTcwYTBjM2Y5YyA9IEwucG9wdXAoe21heFdpZHRoOiAnMzAwJ30pOwoKICAgICAgICAgICAgCiAgICAgICAgICAgICAgICB2YXIgaHRtbF82ZGNmMjE1NzJmYzM0MjlmYjY2YjQwNjViZDI3YWYwNCA9ICQoJzxkaXYgaWQ9Imh0bWxfNmRjZjIxNTcyZmMzNDI5ZmI2NmI0MDY1YmQyN2FmMDQiIHN0eWxlPSJ3aWR0aDogMTAwLjAlOyBoZWlnaHQ6IDEwMC4wJTsiPtCQ0KHQnC3QkNCSIOKEljI1PC9kaXY+JylbMF07CiAgICAgICAgICAgICAgICBwb3B1cF9hZjY2MGY5OThmNDE0NmQwYmJjYTZiZTcwYTBjM2Y5Yy5zZXRDb250ZW50KGh0bWxfNmRjZjIxNTcyZmMzNDI5ZmI2NmI0MDY1YmQyN2FmMDQpOwogICAgICAgICAgICAKCiAgICAgICAgICAgIGNpcmNsZV9tYXJrZXJfY2Q5NGM5YTE4ZTJkNGJiZGEzMjE3MDZjNjlmNmY0MGQuYmluZFBvcHVwKHBvcHVwX2FmNjYwZjk5OGY0MTQ2ZDBiYmNhNmJlNzBhMGMzZjljKTsKCiAgICAgICAgICAgIAogICAgICAgIAogICAgCiAgICAgICAgICAgIHZhciBjaXJjbGVfbWFya2VyXzVjNGQ4MThkMDc4YjQ1MDNhNjkxMGM3OTc2MmM3ZWFkID0gTC5jaXJjbGVNYXJrZXIoCiAgICAgICAgICAgICAgICBbNTkuOTIxNDkzOTk5OTk5OTksMzAuNDA4MjE1MV0sCiAgICAgICAgICAgICAgICB7CiAgImJ1YmJsaW5nTW91c2VFdmVudHMiOiB0cnVlLAogICJjb2xvciI6ICJibHVlIiwKICAiZGFzaEFycmF5IjogbnVsbCwKICAiZGFzaE9mZnNldCI6IG51bGwsCiAgImZpbGwiOiB0cnVlLAogICJmaWxsQ29sb3IiOiAiIzMxODZjYyIsCiAgImZpbGxPcGFjaXR5IjogMC43LAogICJmaWxsUnVsZSI6ICJldmVub2RkIiwKICAibGluZUNhcCI6ICJyb3VuZCIsCiAgImxpbmVKb2luIjogInJvdW5kIiwKICAib3BhY2l0eSI6IDEuMCwKICAicmFkaXVzIjogNSwKICAic3Ryb2tlIjogdHJ1ZSwKICAid2VpZ2h0IjogMwp9CiAgICAgICAgICAgICAgICApLmFkZFRvKG1hcF9kY2JmN2U1OWUxNWI0ZWFlYWM0YTExZTQ0Y2QzZmVkZSk7CiAgICAgICAgICAgIAogICAgCiAgICAgICAgICAgIHZhciBwb3B1cF81ZWJlOGEyZjZhMWY0ZDA5YWYyODc4ZjE1ZDI4ZjgxYyA9IEwucG9wdXAoe21heFdpZHRoOiAnMzAwJ30pOwoKICAgICAgICAgICAgCiAgICAgICAgICAgICAgICB2YXIgaHRtbF9lODViMTE3MDc4YmQ0MjczYjk5ZmFiYTFlMWExZTcxZiA9ICQoJzxkaXYgaWQ9Imh0bWxfZTg1YjExNzA3OGJkNDI3M2I5OWZhYmExZTFhMWU3MWYiIHN0eWxlPSJ3aWR0aDogMTAwLjAlOyBoZWlnaHQ6IDEwMC4wJTsiPtCQ0KHQnC3QkNCSIOKEljQ8L2Rpdj4nKVswXTsKICAgICAgICAgICAgICAgIHBvcHVwXzVlYmU4YTJmNmExZjRkMDlhZjI4NzhmMTVkMjhmODFjLnNldENvbnRlbnQoaHRtbF9lODViMTE3MDc4YmQ0MjczYjk5ZmFiYTFlMWExZTcxZik7CiAgICAgICAgICAgIAoKICAgICAgICAgICAgY2lyY2xlX21hcmtlcl81YzRkODE4ZDA3OGI0NTAzYTY5MTBjNzk3NjJjN2VhZC5iaW5kUG9wdXAocG9wdXBfNWViZThhMmY2YTFmNGQwOWFmMjg3OGYxNWQyOGY4MWMpOwoKICAgICAgICAgICAgCiAgICAgICAgCiAgICAKICAgICAgICAgICAgdmFyIGNpcmNsZV9tYXJrZXJfZjRkNTA0MzM3NWFmNDM5YWJhY2ZiMmFiMjY5OGQ2ZDYgPSBMLmNpcmNsZU1hcmtlcigKICAgICAgICAgICAgICAgIFs1OS45NjgyNDEzOTk5OTk5OSwzMC40NTUyNDUxXSwKICAgICAgICAgICAgICAgIHsKICAiYnViYmxpbmdNb3VzZUV2ZW50cyI6IHRydWUsCiAgImNvbG9yIjogImJsdWUiLAogICJkYXNoQXJyYXkiOiBudWxsLAogICJkYXNoT2Zmc2V0IjogbnVsbCwKICAiZmlsbCI6IHRydWUsCiAgImZpbGxDb2xvciI6ICIjMzE4NmNjIiwKICAiZmlsbE9wYWNpdHkiOiAwLjcsCiAgImZpbGxSdWxlIjogImV2ZW5vZGQiLAogICJsaW5lQ2FwIjogInJvdW5kIiwKICAibGluZUpvaW4iOiAicm91bmQiLAogICJvcGFjaXR5IjogMS4wLAogICJyYWRpdXMiOiA1LAogICJzdHJva2UiOiB0cnVlLAogICJ3ZWlnaHQiOiAzCn0KICAgICAgICAgICAgICAgICkuYWRkVG8obWFwX2RjYmY3ZTU5ZTE1YjRlYWVhYzRhMTFlNDRjZDNmZWRlKTsKICAgICAgICAgICAgCiAgICAKICAgICAgICAgICAgdmFyIHBvcHVwXzdlODI3Mzc0NDU1YjRmZTlhYTY2NjY4NDlmOTgxMWFmID0gTC5wb3B1cCh7bWF4V2lkdGg6ICczMDAnfSk7CgogICAgICAgICAgICAKICAgICAgICAgICAgICAgIHZhciBodG1sX2Y1YmViOWJhMWQ4ZDRhNzhiYzMzY2NjYzQwYzIyYjliID0gJCgnPGRpdiBpZD0iaHRtbF9mNWJlYjliYTFkOGQ0YTc4YmMzM2NjY2M0MGMyMmI5YiIgc3R5bGU9IndpZHRoOiAxMDAuMCU7IGhlaWdodDogMTAwLjAlOyI+0JDQodCcLdCQ0JIg4oSWMTM8L2Rpdj4nKVswXTsKICAgICAgICAgICAgICAgIHBvcHVwXzdlODI3Mzc0NDU1YjRmZTlhYTY2NjY4NDlmOTgxMWFmLnNldENvbnRlbnQoaHRtbF9mNWJlYjliYTFkOGQ0YTc4YmMzM2NjY2M0MGMyMmI5Yik7CiAgICAgICAgICAgIAoKICAgICAgICAgICAgY2lyY2xlX21hcmtlcl9mNGQ1MDQzMzc1YWY0MzlhYmFjZmIyYWIyNjk4ZDZkNi5iaW5kUG9wdXAocG9wdXBfN2U4MjczNzQ0NTViNGZlOWFhNjY2Njg0OWY5ODExYWYpOwoKICAgICAgICAgICAgCiAgICAgICAgCiAgICAKICAgICAgICAgICAgdmFyIGNpcmNsZV9tYXJrZXJfOGU3YjJhYWNmZWJiNGI2NWJmMDdmMzZmZTdmN2Y1ZGEgPSBMLmNpcmNsZU1hcmtlcigKICAgICAgICAgICAgICAgIFs1OS45MzM5NjgsMzAuNDMwMDAyNV0sCiAgICAgICAgICAgICAgICB7CiAgImJ1YmJsaW5nTW91c2VFdmVudHMiOiB0cnVlLAogICJjb2xvciI6ICJibHVlIiwKICAiZGFzaEFycmF5IjogbnVsbCwKICAiZGFzaE9mZnNldCI6IG51bGwsCiAgImZpbGwiOiB0cnVlLAogICJmaWxsQ29sb3IiOiAiIzMxODZjYyIsCiAgImZpbGxPcGFjaXR5IjogMC43LAogICJmaWxsUnVsZSI6ICJldmVub2RkIiwKICAibGluZUNhcCI6ICJyb3VuZCIsCiAgImxpbmVKb2luIjogInJvdW5kIiwKICAib3BhY2l0eSI6IDEuMCwKICAicmFkaXVzIjogNSwKICAic3Ryb2tlIjogdHJ1ZSwKICAid2VpZ2h0IjogMwp9CiAgICAgICAgICAgICAgICApLmFkZFRvKG1hcF9kY2JmN2U1OWUxNWI0ZWFlYWM0YTExZTQ0Y2QzZmVkZSk7CiAgICAgICAgICAgIAogICAgCiAgICAgICAgICAgIHZhciBwb3B1cF8xNjJkM2E4ODhhYzU0ZGE0YWI2NGRiYjc1ZjY1OTJiYiA9IEwucG9wdXAoe21heFdpZHRoOiAnMzAwJ30pOwoKICAgICAgICAgICAgCiAgICAgICAgICAgICAgICB2YXIgaHRtbF9iYTg1ODc0ZDhiM2M0Y2IwOGVjOWIxMTEwMjM4NmE4YiA9ICQoJzxkaXYgaWQ9Imh0bWxfYmE4NTg3NGQ4YjNjNGNiMDhlYzliMTExMDIzODZhOGIiIHN0eWxlPSJ3aWR0aDogMTAwLjAlOyBoZWlnaHQ6IDEwMC4wJTsiPtCQ0KHQnC3QkNCSIOKEljE0PC9kaXY+JylbMF07CiAgICAgICAgICAgICAgICBwb3B1cF8xNjJkM2E4ODhhYzU0ZGE0YWI2NGRiYjc1ZjY1OTJiYi5zZXRDb250ZW50KGh0bWxfYmE4NTg3NGQ4YjNjNGNiMDhlYzliMTExMDIzODZhOGIpOwogICAgICAgICAgICAKCiAgICAgICAgICAgIGNpcmNsZV9tYXJrZXJfOGU3YjJhYWNmZWJiNGI2NWJmMDdmMzZmZTdmN2Y1ZGEuYmluZFBvcHVwKHBvcHVwXzE2MmQzYTg4OGFjNTRkYTRhYjY0ZGJiNzVmNjU5MmJiKTsKCiAgICAgICAgICAgIAogICAgICAgIAogICAgCiAgICAgICAgICAgIHZhciBjaXJjbGVfbWFya2VyXzRlYjNmN2VhMTYyMzQwOWNiYzE5NjZjNzRkYzEyNzFkID0gTC5jaXJjbGVNYXJrZXIoCiAgICAgICAgICAgICAgICBbNTkuODM4MTQyMSwzMC4xMTM3NjA3XSwKICAgICAgICAgICAgICAgIHsKICAiYnViYmxpbmdNb3VzZUV2ZW50cyI6IHRydWUsCiAgImNvbG9yIjogImJsdWUiLAogICJkYXNoQXJyYXkiOiBudWxsLAogICJkYXNoT2Zmc2V0IjogbnVsbCwKICAiZmlsbCI6IHRydWUsCiAgImZpbGxDb2xvciI6ICIjMzE4NmNjIiwKICAiZmlsbE9wYWNpdHkiOiAwLjcsCiAgImZpbGxSdWxlIjogImV2ZW5vZGQiLAogICJsaW5lQ2FwIjogInJvdW5kIiwKICAibGluZUpvaW4iOiAicm91bmQiLAogICJvcGFjaXR5IjogMS4wLAogICJyYWRpdXMiOiA1LAogICJzdHJva2UiOiB0cnVlLAogICJ3ZWlnaHQiOiAzCn0KICAgICAgICAgICAgICAgICkuYWRkVG8obWFwX2RjYmY3ZTU5ZTE1YjRlYWVhYzRhMTFlNDRjZDNmZWRlKTsKICAgICAgICAgICAgCiAgICAKICAgICAgICAgICAgdmFyIHBvcHVwX2NiNzM2ZTBjYzJjMzQ4NDc5ZWFmMDQ5MWYyMTQ4ZWUzID0gTC5wb3B1cCh7bWF4V2lkdGg6ICczMDAnfSk7CgogICAgICAgICAgICAKICAgICAgICAgICAgICAgIHZhciBodG1sX2Y3YWNlNDJlODgyOTRjYWZhYWJmYTFiYmQ0Zjk1NTY1ID0gJCgnPGRpdiBpZD0iaHRtbF9mN2FjZTQyZTg4Mjk0Y2FmYWFiZmExYmJkNGY5NTU2NSIgc3R5bGU9IndpZHRoOiAxMDAuMCU7IGhlaWdodDogMTAwLjAlOyI+0JDQodCcLdCQ0JIg4oSWMTk8L2Rpdj4nKVswXTsKICAgICAgICAgICAgICAgIHBvcHVwX2NiNzM2ZTBjYzJjMzQ4NDc5ZWFmMDQ5MWYyMTQ4ZWUzLnNldENvbnRlbnQoaHRtbF9mN2FjZTQyZTg4Mjk0Y2FmYWFiZmExYmJkNGY5NTU2NSk7CiAgICAgICAgICAgIAoKICAgICAgICAgICAgY2lyY2xlX21hcmtlcl80ZWIzZjdlYTE2MjM0MDljYmMxOTY2Yzc0ZGMxMjcxZC5iaW5kUG9wdXAocG9wdXBfY2I3MzZlMGNjMmMzNDg0NzllYWYwNDkxZjIxNDhlZTMpOwoKICAgICAgICAgICAgCiAgICAgICAgCiAgICAKICAgICAgICAgICAgdmFyIGNpcmNsZV9tYXJrZXJfNWU5MGYwOTg0MTIyNGU0ZmI0NjRiN2IzMDE2NmNjNGMgPSBMLmNpcmNsZU1hcmtlcigKICAgICAgICAgICAgICAgIFs1OS45ODcwNDE1LDI5Ljc5MDU0MTJdLAogICAgICAgICAgICAgICAgewogICJidWJibGluZ01vdXNlRXZlbnRzIjogdHJ1ZSwKICAiY29sb3IiOiAiYmx1ZSIsCiAgImRhc2hBcnJheSI6IG51bGwsCiAgImRhc2hPZmZzZXQiOiBudWxsLAogICJmaWxsIjogdHJ1ZSwKICAiZmlsbENvbG9yIjogIiMzMTg2Y2MiLAogICJmaWxsT3BhY2l0eSI6IDAuNywKICAiZmlsbFJ1bGUiOiAiZXZlbm9kZCIsCiAgImxpbmVDYXAiOiAicm91bmQiLAogICJsaW5lSm9pbiI6ICJyb3VuZCIsCiAgIm9wYWNpdHkiOiAxLjAsCiAgInJhZGl1cyI6IDUsCiAgInN0cm9rZSI6IHRydWUsCiAgIndlaWdodCI6IDMKfQogICAgICAgICAgICAgICAgKS5hZGRUbyhtYXBfZGNiZjdlNTllMTViNGVhZWFjNGExMWU0NGNkM2ZlZGUpOwogICAgICAgICAgICAKICAgIAogICAgICAgICAgICB2YXIgcG9wdXBfNWEwZTg1YWE0ZWFkNGEyYWFjYmUxZjQ3YWUzNGY3ZTIgPSBMLnBvcHVwKHttYXhXaWR0aDogJzMwMCd9KTsKCiAgICAgICAgICAgIAogICAgICAgICAgICAgICAgdmFyIGh0bWxfOWU0M2EzNDAzMTIxNDNjMzg5NzI3MjU4ZmVlYTU4N2EgPSAkKCc8ZGl2IGlkPSJodG1sXzllNDNhMzQwMzEyMTQzYzM4OTcyNzI1OGZlZWE1ODdhIiBzdHlsZT0id2lkdGg6IDEwMC4wJTsgaGVpZ2h0OiAxMDAuMCU7Ij7QkNCh0Jwt0JDQkiDihJYxNTwvZGl2PicpWzBdOwogICAgICAgICAgICAgICAgcG9wdXBfNWEwZTg1YWE0ZWFkNGEyYWFjYmUxZjQ3YWUzNGY3ZTIuc2V0Q29udGVudChodG1sXzllNDNhMzQwMzEyMTQzYzM4OTcyNzI1OGZlZWE1ODdhKTsKICAgICAgICAgICAgCgogICAgICAgICAgICBjaXJjbGVfbWFya2VyXzVlOTBmMDk4NDEyMjRlNGZiNDY0YjdiMzAxNjZjYzRjLmJpbmRQb3B1cChwb3B1cF81YTBlODVhYTRlYWQ0YTJhYWNiZTFmNDdhZTM0ZjdlMik7CgogICAgICAgICAgICAKICAgICAgICAKICAgIAogICAgICAgICAgICB2YXIgY2lyY2xlX21hcmtlcl9jMGEzZDY2N2YwNzY0YzA5YTczM2QyOTJmYjRiNmUyMSA9IEwuY2lyY2xlTWFya2VyKAogICAgICAgICAgICAgICAgWzYwLjExMzM1MTQ5OTk5OTk5LDI5Ljk1NDg3ODddLAogICAgICAgICAgICAgICAgewogICJidWJibGluZ01vdXNlRXZlbnRzIjogdHJ1ZSwKICAiY29sb3IiOiAiYmx1ZSIsCiAgImRhc2hBcnJheSI6IG51bGwsCiAgImRhc2hPZmZzZXQiOiBudWxsLAogICJmaWxsIjogdHJ1ZSwKICAiZmlsbENvbG9yIjogIiMzMTg2Y2MiLAogICJmaWxsT3BhY2l0eSI6IDAuNywKICAiZmlsbFJ1bGUiOiAiZXZlbm9kZCIsCiAgImxpbmVDYXAiOiAicm91bmQiLAogICJsaW5lSm9pbiI6ICJyb3VuZCIsCiAgIm9wYWNpdHkiOiAxLjAsCiAgInJhZGl1cyI6IDUsCiAgInN0cm9rZSI6IHRydWUsCiAgIndlaWdodCI6IDMKfQogICAgICAgICAgICAgICAgKS5hZGRUbyhtYXBfZGNiZjdlNTllMTViNGVhZWFjNGExMWU0NGNkM2ZlZGUpOwogICAgICAgICAgICAKICAgIAogICAgICAgICAgICB2YXIgcG9wdXBfOGQ3MGNjMjU1ZWRmNDdlZGE1ZTA3NGVlMzM4MTVjYzEgPSBMLnBvcHVwKHttYXhXaWR0aDogJzMwMCd9KTsKCiAgICAgICAgICAgIAogICAgICAgICAgICAgICAgdmFyIGh0bWxfMGY1ZDJlNTk4NmNlNDhlMWJjMjZkYjZmZjJkYzVjMTIgPSAkKCc8ZGl2IGlkPSJodG1sXzBmNWQyZTU5ODZjZTQ4ZTFiYzI2ZGI2ZmYyZGM1YzEyIiBzdHlsZT0id2lkdGg6IDEwMC4wJTsgaGVpZ2h0OiAxMDAuMCU7Ij7QkNCh0Jwt0JDQkiDihJYxMTwvZGl2PicpWzBdOwogICAgICAgICAgICAgICAgcG9wdXBfOGQ3MGNjMjU1ZWRmNDdlZGE1ZTA3NGVlMzM4MTVjYzEuc2V0Q29udGVudChodG1sXzBmNWQyZTU5ODZjZTQ4ZTFiYzI2ZGI2ZmYyZGM1YzEyKTsKICAgICAgICAgICAgCgogICAgICAgICAgICBjaXJjbGVfbWFya2VyX2MwYTNkNjY3ZjA3NjRjMDlhNzMzZDI5MmZiNGI2ZTIxLmJpbmRQb3B1cChwb3B1cF84ZDcwY2MyNTVlZGY0N2VkYTVlMDc0ZWUzMzgxNWNjMSk7CgogICAgICAgICAgICAKICAgICAgICAKICAgIAogICAgICAgICAgICB2YXIgY2lyY2xlX21hcmtlcl84MjM0ZjljOTg4MmI0Mzk5OWYyNzBkM2JlN2Y3MTBlNyA9IEwuY2lyY2xlTWFya2VyKAogICAgICAgICAgICAgICAgWzU5Ljg3MzgyNSwzMC4zMjkwNV0sCiAgICAgICAgICAgICAgICB7CiAgImJ1YmJsaW5nTW91c2VFdmVudHMiOiB0cnVlLAogICJjb2xvciI6ICJibHVlIiwKICAiZGFzaEFycmF5IjogbnVsbCwKICAiZGFzaE9mZnNldCI6IG51bGwsCiAgImZpbGwiOiB0cnVlLAogICJmaWxsQ29sb3IiOiAiIzMxODZjYyIsCiAgImZpbGxPcGFjaXR5IjogMC43LAogICJmaWxsUnVsZSI6ICJldmVub2RkIiwKICAibGluZUNhcCI6ICJyb3VuZCIsCiAgImxpbmVKb2luIjogInJvdW5kIiwKICAib3BhY2l0eSI6IDEuMCwKICAicmFkaXVzIjogNSwKICAic3Ryb2tlIjogdHJ1ZSwKICAid2VpZ2h0IjogMwp9CiAgICAgICAgICAgICAgICApLmFkZFRvKG1hcF9kY2JmN2U1OWUxNWI0ZWFlYWM0YTExZTQ0Y2QzZmVkZSk7CiAgICAgICAgICAgIAogICAgCiAgICAgICAgICAgIHZhciBwb3B1cF9lYjY2YWFkZWFkZmM0Yzk1Yjk5Y2QzMGRhYmExZjI1YSA9IEwucG9wdXAoe21heFdpZHRoOiAnMzAwJ30pOwoKICAgICAgICAgICAgCiAgICAgICAgICAgICAgICB2YXIgaHRtbF8wYjc1ZDdlZmU1ZmM0N2NkYjkxMzQyY2I4MDE4MzhmZiA9ICQoJzxkaXYgaWQ9Imh0bWxfMGI3NWQ3ZWZlNWZjNDdjZGI5MTM0MmNiODAxODM4ZmYiIHN0eWxlPSJ3aWR0aDogMTAwLjAlOyBoZWlnaHQ6IDEwMC4wJTsiPtCQ0KHQnC3QkNCSIOKEljE2PC9kaXY+JylbMF07CiAgICAgICAgICAgICAgICBwb3B1cF9lYjY2YWFkZWFkZmM0Yzk1Yjk5Y2QzMGRhYmExZjI1YS5zZXRDb250ZW50KGh0bWxfMGI3NWQ3ZWZlNWZjNDdjZGI5MTM0MmNiODAxODM4ZmYpOwogICAgICAgICAgICAKCiAgICAgICAgICAgIGNpcmNsZV9tYXJrZXJfODIzNGY5Yzk4ODJiNDM5OTlmMjcwZDNiZTdmNzEwZTcuYmluZFBvcHVwKHBvcHVwX2ViNjZhYWRlYWRmYzRjOTViOTljZDMwZGFiYTFmMjVhKTsKCiAgICAgICAgICAgIAogICAgICAgIAogICAgCiAgICAgICAgICAgIHZhciBjaXJjbGVfbWFya2VyXzMzNmQwMjFkMTg2NDQxNTY4YjlkNTA5Mzg1YzQ0NmRmID0gTC5jaXJjbGVNYXJrZXIoCiAgICAgICAgICAgICAgICBbNTkuODkxNDI1NywzMC40NjE5NzgzXSwKICAgICAgICAgICAgICAgIHsKICAiYnViYmxpbmdNb3VzZUV2ZW50cyI6IHRydWUsCiAgImNvbG9yIjogImJsdWUiLAogICJkYXNoQXJyYXkiOiBudWxsLAogICJkYXNoT2Zmc2V0IjogbnVsbCwKICAiZmlsbCI6IHRydWUsCiAgImZpbGxDb2xvciI6ICIjMzE4NmNjIiwKICAiZmlsbE9wYWNpdHkiOiAwLjcsCiAgImZpbGxSdWxlIjogImV2ZW5vZGQiLAogICJsaW5lQ2FwIjogInJvdW5kIiwKICAibGluZUpvaW4iOiAicm91bmQiLAogICJvcGFjaXR5IjogMS4wLAogICJyYWRpdXMiOiA1LAogICJzdHJva2UiOiB0cnVlLAogICJ3ZWlnaHQiOiAzCn0KICAgICAgICAgICAgICAgICkuYWRkVG8obWFwX2RjYmY3ZTU5ZTE1YjRlYWVhYzRhMTFlNDRjZDNmZWRlKTsKICAgICAgICAgICAgCiAgICAKICAgICAgICAgICAgdmFyIHBvcHVwXzY3MTBjYjMzNzRlZTRiZDFhNWJhZmY0NDZjNzI4ZmYwID0gTC5wb3B1cCh7bWF4V2lkdGg6ICczMDAnfSk7CgogICAgICAgICAgICAKICAgICAgICAgICAgICAgIHZhciBodG1sXzZiMWI2NTk3YzM3ZjRiYzk4YTYzNGY0MzZiMTk5NGEyID0gJCgnPGRpdiBpZD0iaHRtbF82YjFiNjU5N2MzN2Y0YmM5OGE2MzRmNDM2YjE5OTRhMiIgc3R5bGU9IndpZHRoOiAxMDAuMCU7IGhlaWdodDogMTAwLjAlOyI+0JDQodCcLdCQ0JIg4oSWMjA8L2Rpdj4nKVswXTsKICAgICAgICAgICAgICAgIHBvcHVwXzY3MTBjYjMzNzRlZTRiZDFhNWJhZmY0NDZjNzI4ZmYwLnNldENvbnRlbnQoaHRtbF82YjFiNjU5N2MzN2Y0YmM5OGE2MzRmNDM2YjE5OTRhMik7CiAgICAgICAgICAgIAoKICAgICAgICAgICAgY2lyY2xlX21hcmtlcl8zMzZkMDIxZDE4NjQ0MTU2OGI5ZDUwOTM4NWM0NDZkZi5iaW5kUG9wdXAocG9wdXBfNjcxMGNiMzM3NGVlNGJkMWE1YmFmZjQ0NmM3MjhmZjApOwoKICAgICAgICAgICAgCiAgICAgICAgCiAgICAKICAgICAgICAgICAgdmFyIGNpcmNsZV9tYXJrZXJfMjY4YzQyYzQ4MThhNDJmZWEzZWRjMzk5MzcyYmFhMzEgPSBMLmNpcmNsZU1hcmtlcigKICAgICAgICAgICAgICAgIFs1OS45NjkyNzcsMzAuMjg0NTgzXSwKICAgICAgICAgICAgICAgIHsKICAiYnViYmxpbmdNb3VzZUV2ZW50cyI6IHRydWUsCiAgImNvbG9yIjogImJsdWUiLAogICJkYXNoQXJyYXkiOiBudWxsLAogICJkYXNoT2Zmc2V0IjogbnVsbCwKICAiZmlsbCI6IHRydWUsCiAgImZpbGxDb2xvciI6ICIjMzE4NmNjIiwKICAiZmlsbE9wYWNpdHkiOiAwLjcsCiAgImZpbGxSdWxlIjogImV2ZW5vZGQiLAogICJsaW5lQ2FwIjogInJvdW5kIiwKICAibGluZUpvaW4iOiAicm91bmQiLAogICJvcGFjaXR5IjogMS4wLAogICJyYWRpdXMiOiA1LAogICJzdHJva2UiOiB0cnVlLAogICJ3ZWlnaHQiOiAzCn0KICAgICAgICAgICAgICAgICkuYWRkVG8obWFwX2RjYmY3ZTU5ZTE1YjRlYWVhYzRhMTFlNDRjZDNmZWRlKTsKICAgICAgICAgICAgCiAgICAKICAgICAgICAgICAgdmFyIHBvcHVwX2MyMWZmODgzZDc5NzQ2OGU4Yjc5MzM2OTQ5NmM4YWM3ID0gTC5wb3B1cCh7bWF4V2lkdGg6ICczMDAnfSk7CgogICAgICAgICAgICAKICAgICAgICAgICAgICAgIHZhciBodG1sXzRmZWY3YmNjMTBlNDQwOTM4Y2M1NWU0MjBjODZhZDUyID0gJCgnPGRpdiBpZD0iaHRtbF80ZmVmN2JjYzEwZTQ0MDkzOGNjNTVlNDIwYzg2YWQ1MiIgc3R5bGU9IndpZHRoOiAxMDAuMCU7IGhlaWdodDogMTAwLjAlOyI+0JDQodCcLdCQ0JIg4oSWMTwvZGl2PicpWzBdOwogICAgICAgICAgICAgICAgcG9wdXBfYzIxZmY4ODNkNzk3NDY4ZThiNzkzMzY5NDk2YzhhYzcuc2V0Q29udGVudChodG1sXzRmZWY3YmNjMTBlNDQwOTM4Y2M1NWU0MjBjODZhZDUyKTsKICAgICAgICAgICAgCgogICAgICAgICAgICBjaXJjbGVfbWFya2VyXzI2OGM0MmM0ODE4YTQyZmVhM2VkYzM5OTM3MmJhYTMxLmJpbmRQb3B1cChwb3B1cF9jMjFmZjg4M2Q3OTc0NjhlOGI3OTMzNjk0OTZjOGFjNyk7CgogICAgICAgICAgICAKICAgICAgICAKICAgIAogICAgICAgICAgICB2YXIgY2lyY2xlX21hcmtlcl84ZDJmMGNiZGQzNTQ0MDZhODFjMzFjMjM0MDllYjk4YiA9IEwuY2lyY2xlTWFya2VyKAogICAgICAgICAgICAgICAgWzU5Ljk2ODg4MjMsMzAuMjY0OTI1OF0sCiAgICAgICAgICAgICAgICB7CiAgImJ1YmJsaW5nTW91c2VFdmVudHMiOiB0cnVlLAogICJjb2xvciI6ICJibHVlIiwKICAiZGFzaEFycmF5IjogbnVsbCwKICAiZGFzaE9mZnNldCI6IG51bGwsCiAgImZpbGwiOiB0cnVlLAogICJmaWxsQ29sb3IiOiAiIzMxODZjYyIsCiAgImZpbGxPcGFjaXR5IjogMC43LAogICJmaWxsUnVsZSI6ICJldmVub2RkIiwKICAibGluZUNhcCI6ICJyb3VuZCIsCiAgImxpbmVKb2luIjogInJvdW5kIiwKICAib3BhY2l0eSI6IDEuMCwKICAicmFkaXVzIjogNSwKICAic3Ryb2tlIjogdHJ1ZSwKICAid2VpZ2h0IjogMwp9CiAgICAgICAgICAgICAgICApLmFkZFRvKG1hcF9kY2JmN2U1OWUxNWI0ZWFlYWM0YTExZTQ0Y2QzZmVkZSk7CiAgICAgICAgICAgIAogICAgCiAgICAgICAgICAgIHZhciBwb3B1cF80Y2I1YTQ5ZTkyYTU0MTNiOWEyNWY0ZjgzZTg0ZTA5MCA9IEwucG9wdXAoe21heFdpZHRoOiAnMzAwJ30pOwoKICAgICAgICAgICAgCiAgICAgICAgICAgICAgICB2YXIgaHRtbF9mMzlkZmQzMmYwMTk0NjA0YmY0ZmFkNDliYWYyOWExOSA9ICQoJzxkaXYgaWQ9Imh0bWxfZjM5ZGZkMzJmMDE5NDYwNGJmNGZhZDQ5YmFmMjlhMTkiIHN0eWxlPSJ3aWR0aDogMTAwLjAlOyBoZWlnaHQ6IDEwMC4wJTsiPtCQ0KHQnC3QkNCSIOKEljIzPC9kaXY+JylbMF07CiAgICAgICAgICAgICAgICBwb3B1cF80Y2I1YTQ5ZTkyYTU0MTNiOWEyNWY0ZjgzZTg0ZTA5MC5zZXRDb250ZW50KGh0bWxfZjM5ZGZkMzJmMDE5NDYwNGJmNGZhZDQ5YmFmMjlhMTkpOwogICAgICAgICAgICAKCiAgICAgICAgICAgIGNpcmNsZV9tYXJrZXJfOGQyZjBjYmRkMzU0NDA2YTgxYzMxYzIzNDA5ZWI5OGIuYmluZFBvcHVwKHBvcHVwXzRjYjVhNDllOTJhNTQxM2I5YTI1ZjRmODNlODRlMDkwKTsKCiAgICAgICAgICAgIAogICAgICAgIAogICAgCiAgICAgICAgICAgIHZhciBjaXJjbGVfbWFya2VyX2I2ZWUyODg5ZjBlMTQ3ZTY4YjgxMDdiOTFjN2VhZThlID0gTC5jaXJjbGVNYXJrZXIoCiAgICAgICAgICAgICAgICBbNTkuOTAxMDkwMTk5OTk5OTksMjkuNzc0NzM0NF0sCiAgICAgICAgICAgICAgICB7CiAgImJ1YmJsaW5nTW91c2VFdmVudHMiOiB0cnVlLAogICJjb2xvciI6ICJibHVlIiwKICAiZGFzaEFycmF5IjogbnVsbCwKICAiZGFzaE9mZnNldCI6IG51bGwsCiAgImZpbGwiOiB0cnVlLAogICJmaWxsQ29sb3IiOiAiIzMxODZjYyIsCiAgImZpbGxPcGFjaXR5IjogMC43LAogICJmaWxsUnVsZSI6ICJldmVub2RkIiwKICAibGluZUNhcCI6ICJyb3VuZCIsCiAgImxpbmVKb2luIjogInJvdW5kIiwKICAib3BhY2l0eSI6IDEuMCwKICAicmFkaXVzIjogNSwKICAic3Ryb2tlIjogdHJ1ZSwKICAid2VpZ2h0IjogMwp9CiAgICAgICAgICAgICAgICApLmFkZFRvKG1hcF9kY2JmN2U1OWUxNWI0ZWFlYWM0YTExZTQ0Y2QzZmVkZSk7CiAgICAgICAgICAgIAogICAgCiAgICAgICAgICAgIHZhciBwb3B1cF85NThiN2I3NjY2YTg0MDMzOTE1MWRhODY2YmM1MWVkYiA9IEwucG9wdXAoe21heFdpZHRoOiAnMzAwJ30pOwoKICAgICAgICAgICAgCiAgICAgICAgICAgICAgICB2YXIgaHRtbF9lOTEzYjY0OThiODI0YTU5YTFlYTExZWE3NGI2NzVkNiA9ICQoJzxkaXYgaWQ9Imh0bWxfZTkxM2I2NDk4YjgyNGE1OWExZWExMWVhNzRiNjc1ZDYiIHN0eWxlPSJ3aWR0aDogMTAwLjAlOyBoZWlnaHQ6IDEwMC4wJTsiPtCQ0KHQnC3QkNCSIOKEljIxPC9kaXY+JylbMF07CiAgICAgICAgICAgICAgICBwb3B1cF85NThiN2I3NjY2YTg0MDMzOTE1MWRhODY2YmM1MWVkYi5zZXRDb250ZW50KGh0bWxfZTkxM2I2NDk4YjgyNGE1OWExZWExMWVhNzRiNjc1ZDYpOwogICAgICAgICAgICAKCiAgICAgICAgICAgIGNpcmNsZV9tYXJrZXJfYjZlZTI4ODlmMGUxNDdlNjhiODEwN2I5MWM3ZWFlOGUuYmluZFBvcHVwKHBvcHVwXzk1OGI3Yjc2NjZhODQwMzM5MTUxZGE4NjZiYzUxZWRiKTsKCiAgICAgICAgICAgIAogICAgICAgIAogICAgCiAgICAgICAgICAgIHZhciBjaXJjbGVfbWFya2VyXzlkNGZjMzZmOTdiOTQ3NGViZjU0NmRlODYyMThhOTIyID0gTC5jaXJjbGVNYXJrZXIoCiAgICAgICAgICAgICAgICBbNjAuMDMxMDUsMzAuMjg3MTY2XSwKICAgICAgICAgICAgICAgIHsKICAiYnViYmxpbmdNb3VzZUV2ZW50cyI6IHRydWUsCiAgImNvbG9yIjogImJsdWUiLAogICJkYXNoQXJyYXkiOiBudWxsLAogICJkYXNoT2Zmc2V0IjogbnVsbCwKICAiZmlsbCI6IHRydWUsCiAgImZpbGxDb2xvciI6ICIjMzE4NmNjIiwKICAiZmlsbE9wYWNpdHkiOiAwLjcsCiAgImZpbGxSdWxlIjogImV2ZW5vZGQiLAogICJsaW5lQ2FwIjogInJvdW5kIiwKICAibGluZUpvaW4iOiAicm91bmQiLAogICJvcGFjaXR5IjogMS4wLAogICJyYWRpdXMiOiA1LAogICJzdHJva2UiOiB0cnVlLAogICJ3ZWlnaHQiOiAzCn0KICAgICAgICAgICAgICAgICkuYWRkVG8obWFwX2RjYmY3ZTU5ZTE1YjRlYWVhYzRhMTFlNDRjZDNmZWRlKTsKICAgICAgICAgICAgCiAgICAKICAgICAgICAgICAgdmFyIHBvcHVwXzJkYmZjMWYwZjk1ZjQyYTBhOTFhODVkY2IwNmUxOTc3ID0gTC5wb3B1cCh7bWF4V2lkdGg6ICczMDAnfSk7CgogICAgICAgICAgICAKICAgICAgICAgICAgICAgIHZhciBodG1sXzEwYzBjMzIzOGRjMzQ1OTc4Y2EzM2Y3MTYwZWQ0ZDM0ID0gJCgnPGRpdiBpZD0iaHRtbF8xMGMwYzMyMzhkYzM0NTk3OGNhMzNmNzE2MGVkNGQzNCIgc3R5bGU9IndpZHRoOiAxMDAuMCU7IGhlaWdodDogMTAwLjAlOyI+0JDQodCcLdCQ0JIg4oSWODwvZGl2PicpWzBdOwogICAgICAgICAgICAgICAgcG9wdXBfMmRiZmMxZjBmOTVmNDJhMGE5MWE4NWRjYjA2ZTE5Nzcuc2V0Q29udGVudChodG1sXzEwYzBjMzIzOGRjMzQ1OTc4Y2EzM2Y3MTYwZWQ0ZDM0KTsKICAgICAgICAgICAgCgogICAgICAgICAgICBjaXJjbGVfbWFya2VyXzlkNGZjMzZmOTdiOTQ3NGViZjU0NmRlODYyMThhOTIyLmJpbmRQb3B1cChwb3B1cF8yZGJmYzFmMGY5NWY0MmEwYTkxYTg1ZGNiMDZlMTk3Nyk7CgogICAgICAgICAgICAKICAgICAgICAKICAgIAogICAgICAgICAgICB2YXIgY2lyY2xlX21hcmtlcl81MzdlNTlmZjBiNTI0MmEzOWU5MmQzNDc4MjVkYmFmYyA9IEwuY2lyY2xlTWFya2VyKAogICAgICAgICAgICAgICAgWzU5LjY5NzQyNjk5OTk5OTk5LDMwLjM3MjE4NTVdLAogICAgICAgICAgICAgICAgewogICJidWJibGluZ01vdXNlRXZlbnRzIjogdHJ1ZSwKICAiY29sb3IiOiAiYmx1ZSIsCiAgImRhc2hBcnJheSI6IG51bGwsCiAgImRhc2hPZmZzZXQiOiBudWxsLAogICJmaWxsIjogdHJ1ZSwKICAiZmlsbENvbG9yIjogIiMzMTg2Y2MiLAogICJmaWxsT3BhY2l0eSI6IDAuNywKICAiZmlsbFJ1bGUiOiAiZXZlbm9kZCIsCiAgImxpbmVDYXAiOiAicm91bmQiLAogICJsaW5lSm9pbiI6ICJyb3VuZCIsCiAgIm9wYWNpdHkiOiAxLjAsCiAgInJhZGl1cyI6IDUsCiAgInN0cm9rZSI6IHRydWUsCiAgIndlaWdodCI6IDMKfQogICAgICAgICAgICAgICAgKS5hZGRUbyhtYXBfZGNiZjdlNTllMTViNGVhZWFjNGExMWU0NGNkM2ZlZGUpOwogICAgICAgICAgICAKICAgIAogICAgICAgICAgICB2YXIgcG9wdXBfOTUzYzEzODE2M2QzNGRiMGFlYzRiNDQ3OTY5ZGVhN2EgPSBMLnBvcHVwKHttYXhXaWR0aDogJzMwMCd9KTsKCiAgICAgICAgICAgIAogICAgICAgICAgICAgICAgdmFyIGh0bWxfYTJmMWVkZjYyMzMxNDY0Nzk0MzU2MWNhNjQ5OWQ2ZWYgPSAkKCc8ZGl2IGlkPSJodG1sX2EyZjFlZGY2MjMzMTQ2NDc5NDM1NjFjYTY0OTlkNmVmIiBzdHlsZT0id2lkdGg6IDEwMC4wJTsgaGVpZ2h0OiAxMDAuMCU7Ij7QkNCh0Jwt0JDQkiDihJYxNzwvZGl2PicpWzBdOwogICAgICAgICAgICAgICAgcG9wdXBfOTUzYzEzODE2M2QzNGRiMGFlYzRiNDQ3OTY5ZGVhN2Euc2V0Q29udGVudChodG1sX2EyZjFlZGY2MjMzMTQ2NDc5NDM1NjFjYTY0OTlkNmVmKTsKICAgICAgICAgICAgCgogICAgICAgICAgICBjaXJjbGVfbWFya2VyXzUzN2U1OWZmMGI1MjQyYTM5ZTkyZDM0NzgyNWRiYWZjLmJpbmRQb3B1cChwb3B1cF85NTNjMTM4MTYzZDM0ZGIwYWVjNGI0NDc5NjlkZWE3YSk7CgogICAgICAgICAgICAKICAgICAgICAKICAgIAogICAgICAgICAgICB2YXIgY2lyY2xlX21hcmtlcl84ZmUzNTJlYzZmZTc0YTYwYTY0NjU4Yjk2YzNlN2EwNiA9IEwuY2lyY2xlTWFya2VyKAogICAgICAgICAgICAgICAgWzU5LjgyODc4NTk5OTk5OTk5LDMwLjQxOTM0N10sCiAgICAgICAgICAgICAgICB7CiAgImJ1YmJsaW5nTW91c2VFdmVudHMiOiB0cnVlLAogICJjb2xvciI6ICJibHVlIiwKICAiZGFzaEFycmF5IjogbnVsbCwKICAiZGFzaE9mZnNldCI6IG51bGwsCiAgImZpbGwiOiB0cnVlLAogICJmaWxsQ29sb3IiOiAiIzMxODZjYyIsCiAgImZpbGxPcGFjaXR5IjogMC43LAogICJmaWxsUnVsZSI6ICJldmVub2RkIiwKICAibGluZUNhcCI6ICJyb3VuZCIsCiAgImxpbmVKb2luIjogInJvdW5kIiwKICAib3BhY2l0eSI6IDEuMCwKICAicmFkaXVzIjogNSwKICAic3Ryb2tlIjogdHJ1ZSwKICAid2VpZ2h0IjogMwp9CiAgICAgICAgICAgICAgICApLmFkZFRvKG1hcF9kY2JmN2U1OWUxNWI0ZWFlYWM0YTExZTQ0Y2QzZmVkZSk7CiAgICAgICAgICAgIAogICAgCiAgICAgICAgICAgIHZhciBwb3B1cF9lNjcxYjgyZTYyYWE0MGM3YTZmMWFjNmVkM2Q4ZGFlYyA9IEwucG9wdXAoe21heFdpZHRoOiAnMzAwJ30pOwoKICAgICAgICAgICAgCiAgICAgICAgICAgICAgICB2YXIgaHRtbF9hNjliZWMxZWFmMzI0YzgzYmQ2ZDM2MmFhYTRhNDUxYiA9ICQoJzxkaXYgaWQ9Imh0bWxfYTY5YmVjMWVhZjMyNGM4M2JkNmQzNjJhYWE0YTQ1MWIiIHN0eWxlPSJ3aWR0aDogMTAwLjAlOyBoZWlnaHQ6IDEwMC4wJTsiPtCQ0KHQnC3QkNCSIOKEljk8L2Rpdj4nKVswXTsKICAgICAgICAgICAgICAgIHBvcHVwX2U2NzFiODJlNjJhYTQwYzdhNmYxYWM2ZWQzZDhkYWVjLnNldENvbnRlbnQoaHRtbF9hNjliZWMxZWFmMzI0YzgzYmQ2ZDM2MmFhYTRhNDUxYik7CiAgICAgICAgICAgIAoKICAgICAgICAgICAgY2lyY2xlX21hcmtlcl84ZmUzNTJlYzZmZTc0YTYwYTY0NjU4Yjk2YzNlN2EwNi5iaW5kUG9wdXAocG9wdXBfZTY3MWI4MmU2MmFhNDBjN2E2ZjFhYzZlZDNkOGRhZWMpOwoKICAgICAgICAgICAgCiAgICAgICAgCiAgICAKICAgICAgICAgICAgdmFyIGNpcmNsZV9tYXJrZXJfNGM5ZDM2YTM3MjlhNGI4Yzk2ZjBjOGFmYmI1MWNiYjcgPSBMLmNpcmNsZU1hcmtlcigKICAgICAgICAgICAgICAgIFs1OS45NDg5NjYzLDMwLjM3NDgyODNdLAogICAgICAgICAgICAgICAgewogICJidWJibGluZ01vdXNlRXZlbnRzIjogdHJ1ZSwKICAiY29sb3IiOiAiYmx1ZSIsCiAgImRhc2hBcnJheSI6IG51bGwsCiAgImRhc2hPZmZzZXQiOiBudWxsLAogICJmaWxsIjogdHJ1ZSwKICAiZmlsbENvbG9yIjogIiMzMTg2Y2MiLAogICJmaWxsT3BhY2l0eSI6IDAuNywKICAiZmlsbFJ1bGUiOiAiZXZlbm9kZCIsCiAgImxpbmVDYXAiOiAicm91bmQiLAogICJsaW5lSm9pbiI6ICJyb3VuZCIsCiAgIm9wYWNpdHkiOiAxLjAsCiAgInJhZGl1cyI6IDUsCiAgInN0cm9rZSI6IHRydWUsCiAgIndlaWdodCI6IDMKfQogICAgICAgICAgICAgICAgKS5hZGRUbyhtYXBfZGNiZjdlNTllMTViNGVhZWFjNGExMWU0NGNkM2ZlZGUpOwogICAgICAgICAgICAKICAgIAogICAgICAgICAgICB2YXIgcG9wdXBfNWZmOGZiN2Q3OTc4NGY4ZGE3N2I2ZTRiNGRmZGU3YzIgPSBMLnBvcHVwKHttYXhXaWR0aDogJzMwMCd9KTsKCiAgICAgICAgICAgIAogICAgICAgICAgICAgICAgdmFyIGh0bWxfM2ExZTEyNDU3OWMwNGFiMzljZjA5YThlYzM3MGQzY2MgPSAkKCc8ZGl2IGlkPSJodG1sXzNhMWUxMjQ1NzljMDRhYjM5Y2YwOWE4ZWMzNzBkM2NjIiBzdHlsZT0id2lkdGg6IDEwMC4wJTsgaGVpZ2h0OiAxMDAuMCU7Ij7QkNCh0Jwt0JDQkiDihJY3PC9kaXY+JylbMF07CiAgICAgICAgICAgICAgICBwb3B1cF81ZmY4ZmI3ZDc5Nzg0ZjhkYTc3YjZlNGI0ZGZkZTdjMi5zZXRDb250ZW50KGh0bWxfM2ExZTEyNDU3OWMwNGFiMzljZjA5YThlYzM3MGQzY2MpOwogICAgICAgICAgICAKCiAgICAgICAgICAgIGNpcmNsZV9tYXJrZXJfNGM5ZDM2YTM3MjlhNGI4Yzk2ZjBjOGFmYmI1MWNiYjcuYmluZFBvcHVwKHBvcHVwXzVmZjhmYjdkNzk3ODRmOGRhNzdiNmU0YjRkZmRlN2MyKTsKCiAgICAgICAgICAgIAogICAgICAgIAo8L3NjcmlwdD4= onload=\"this.contentDocument.open();this.contentDocument.write(atob(this.getAttribute('data-html')));this.contentDocument.close();\" allowfullscreen webkitallowfullscreen mozallowfullscreen></iframe></div></div>"
      ],
      "text/plain": [
       "<folium.folium.Map at 0x7f8d09ea7340>"
      ]
     },
     "execution_count": 6,
     "metadata": {},
     "output_type": "execute_result"
    }
   ],
   "source": [
    "import folium\n",
    "map_piter = folium.Map(location=[piter_lat, piter_lng], zoom_start=9)\n",
    "\n",
    "# add markers to map\n",
    "for lat, lng, name in zip(stations['lat'],stations['lng'],stations['name']):\n",
    "    label = '{}'.format(name)\n",
    "    label = folium.Popup(label, parse_html=True)\n",
    "    folium.CircleMarker(\n",
    "        [lat, lng],\n",
    "        radius=5,\n",
    "        popup=label,\n",
    "        color='blue',\n",
    "        fill=True,\n",
    "        fill_color='#3186cc',\n",
    "        fill_opacity=0.7,\n",
    "        parse_html=False).add_to(map_piter)\n",
    "    \n",
    "map_piter"
   ]
  },
  {
   "cell_type": "markdown",
   "metadata": {
    "pycharm": {
     "name": "#%% md\n"
    }
   },
   "source": [
    "<h3>Getting air pollution indicators<h3>"
   ]
  },
  {
   "cell_type": "markdown",
   "metadata": {},
   "source": [
    "Indicators placed in docx files. Firstly, I install python-docx"
   ]
  },
  {
   "cell_type": "code",
   "execution_count": 7,
   "metadata": {
    "pycharm": {
     "name": "#%%\n"
    }
   },
   "outputs": [
    {
     "name": "stdout",
     "output_type": "stream",
     "text": [
      "Requirement already satisfied: python-docx in /Users/anastasiiapoplaukhina/.conda/envs/Coursera_Capstone/lib/python3.8/site-packages (0.8.10)\n",
      "Requirement already satisfied: lxml>=2.3.2 in /Users/anastasiiapoplaukhina/.conda/envs/Coursera_Capstone/lib/python3.8/site-packages (from python-docx) (4.5.1)\n"
     ]
    }
   ],
   "source": [
    "! pip install python-docx"
   ]
  },
  {
   "cell_type": "code",
   "execution_count": 8,
   "metadata": {
    "pycharm": {
     "name": "#%%\n"
    }
   },
   "outputs": [],
   "source": [
    "import docx"
   ]
  },
  {
   "cell_type": "markdown",
   "metadata": {},
   "source": [
    "Creation dataframe for indicators"
   ]
  },
  {
   "cell_type": "code",
   "execution_count": 9,
   "metadata": {
    "pycharm": {
     "name": "#%%\n"
    }
   },
   "outputs": [],
   "source": [
    "eco_df=pd.DataFrame(columns=['station_name','date','carbon_monoxide','nitric_oxide','nitrogen_dioxide'])"
   ]
  },
  {
   "cell_type": "markdown",
   "metadata": {},
   "source": [
    "Each file has a name like \"ddmmyyyy.docx\". I use a \"while\" loop to look through all files. Each file contains table for all the station. I use \"for\" loop to write into eco_df dataframe all the data."
   ]
  },
  {
   "cell_type": "code",
   "execution_count": 10,
   "metadata": {
    "pycharm": {
     "name": "#%%\n"
    }
   },
   "outputs": [
    {
     "data": {
      "text/plain": [
       "(744, 5)"
      ]
     },
     "execution_count": 10,
     "metadata": {},
     "output_type": "execute_result"
    }
   ],
   "source": [
    "import datetime\n",
    "tdate=datetime.datetime(2020,1,1)\n",
    "k=0\n",
    "while tdate<=datetime.datetime(2020,1,31):\n",
    "    docname='eco_data/'+tdate.strftime(\"%d%m%Y\")+'.docx'\n",
    "    doc=docx.Document(docname)\n",
    "    for i in range(len(stations)):\n",
    "        eco_df.loc[i+k*len(stations),'date']=tdate.strftime(\"%d.%m.%Y\")\n",
    "        eco_df.loc[i+k*len(stations),'station_name']=stations.loc[i,'name']\n",
    "        for j in range(len(doc.tables[i].rows)):\n",
    "            if doc.tables[i].cell(j,0).text=='Оксид углерода':\n",
    "                eco_df.loc[i+k*len(stations),'carbon_monoxide']=doc.tables[i].cell(j,1).text\n",
    "            elif doc.tables[i].cell(j,0).text=='Оксид азота':\n",
    "                eco_df.loc[i+k*len(stations),'nitric_oxide']=doc.tables[i].cell(j,1).text\n",
    "            elif doc.tables[i].cell(j,0).text=='Диоксид азота':\n",
    "                eco_df.loc[i+k*len(stations),'nitrogen_dioxide']=doc.tables[i].cell(j,1).text\n",
    "    k+=1\n",
    "    tdate+=datetime.timedelta(days=1)\n",
    "eco_df.shape"
   ]
  },
  {
   "cell_type": "markdown",
   "metadata": {},
   "source": [
    "Let's check eco_df"
   ]
  },
  {
   "cell_type": "code",
   "execution_count": 11,
   "metadata": {
    "pycharm": {
     "name": "#%%\n"
    }
   },
   "outputs": [
    {
     "data": {
      "text/html": [
       "<div>\n",
       "<style scoped>\n",
       "    .dataframe tbody tr th:only-of-type {\n",
       "        vertical-align: middle;\n",
       "    }\n",
       "\n",
       "    .dataframe tbody tr th {\n",
       "        vertical-align: top;\n",
       "    }\n",
       "\n",
       "    .dataframe thead th {\n",
       "        text-align: right;\n",
       "    }\n",
       "</style>\n",
       "<table border=\"1\" class=\"dataframe\">\n",
       "  <thead>\n",
       "    <tr style=\"text-align: right;\">\n",
       "      <th></th>\n",
       "      <th>station_name</th>\n",
       "      <th>date</th>\n",
       "      <th>carbon_monoxide</th>\n",
       "      <th>nitric_oxide</th>\n",
       "      <th>nitrogen_dioxide</th>\n",
       "    </tr>\n",
       "  </thead>\n",
       "  <tbody>\n",
       "    <tr>\n",
       "      <th>0</th>\n",
       "      <td>АСМ-АВ №10</td>\n",
       "      <td>01.01.2020</td>\n",
       "      <td>-*</td>\n",
       "      <td>-*</td>\n",
       "      <td>-*</td>\n",
       "    </tr>\n",
       "    <tr>\n",
       "      <th>1</th>\n",
       "      <td>АСМ-АВ №24</td>\n",
       "      <td>01.01.2020</td>\n",
       "      <td>0.1</td>\n",
       "      <td>менее 0.1</td>\n",
       "      <td>0.3</td>\n",
       "    </tr>\n",
       "    <tr>\n",
       "      <th>2</th>\n",
       "      <td>АСМ-АВ №6</td>\n",
       "      <td>01.01.2020</td>\n",
       "      <td>менее 0.1</td>\n",
       "      <td>менее 0.1</td>\n",
       "      <td>0.3</td>\n",
       "    </tr>\n",
       "    <tr>\n",
       "      <th>3</th>\n",
       "      <td>АСМ-АВ №3</td>\n",
       "      <td>01.01.2020</td>\n",
       "      <td>0.1</td>\n",
       "      <td>менее 0.1</td>\n",
       "      <td>0.5</td>\n",
       "    </tr>\n",
       "    <tr>\n",
       "      <th>4</th>\n",
       "      <td>АСМ-АВ №18</td>\n",
       "      <td>01.01.2020</td>\n",
       "      <td>0.2</td>\n",
       "      <td>менее 0.1</td>\n",
       "      <td>0.3</td>\n",
       "    </tr>\n",
       "  </tbody>\n",
       "</table>\n",
       "</div>"
      ],
      "text/plain": [
       "  station_name        date carbon_monoxide nitric_oxide nitrogen_dioxide\n",
       "0   АСМ-АВ №10  01.01.2020              -*           -*               -*\n",
       "1   АСМ-АВ №24  01.01.2020             0.1    менее 0.1              0.3\n",
       "2    АСМ-АВ №6  01.01.2020       менее 0.1    менее 0.1              0.3\n",
       "3    АСМ-АВ №3  01.01.2020             0.1    менее 0.1              0.5\n",
       "4   АСМ-АВ №18  01.01.2020             0.2    менее 0.1              0.3"
      ]
     },
     "execution_count": 11,
     "metadata": {},
     "output_type": "execute_result"
    }
   ],
   "source": [
    "eco_df.head()"
   ]
  },
  {
   "cell_type": "markdown",
   "metadata": {},
   "source": [
    "Let's clear the data. \"менее 0.1\" means \"less 0.1\". I replace it with 0. Unfortunally, we don't have all indicators for all days. I replace this data with the most frequent value."
   ]
  },
  {
   "cell_type": "code",
   "execution_count": 12,
   "metadata": {
    "pycharm": {
     "name": "#%%\n"
    }
   },
   "outputs": [
    {
     "data": {
      "text/html": [
       "<div>\n",
       "<style scoped>\n",
       "    .dataframe tbody tr th:only-of-type {\n",
       "        vertical-align: middle;\n",
       "    }\n",
       "\n",
       "    .dataframe tbody tr th {\n",
       "        vertical-align: top;\n",
       "    }\n",
       "\n",
       "    .dataframe thead th {\n",
       "        text-align: right;\n",
       "    }\n",
       "</style>\n",
       "<table border=\"1\" class=\"dataframe\">\n",
       "  <thead>\n",
       "    <tr style=\"text-align: right;\">\n",
       "      <th></th>\n",
       "      <th>station_name</th>\n",
       "      <th>date</th>\n",
       "      <th>carbon_monoxide</th>\n",
       "      <th>nitric_oxide</th>\n",
       "      <th>nitrogen_dioxide</th>\n",
       "    </tr>\n",
       "  </thead>\n",
       "  <tbody>\n",
       "    <tr>\n",
       "      <th>0</th>\n",
       "      <td>АСМ-АВ №10</td>\n",
       "      <td>01.01.2020</td>\n",
       "      <td>0.1</td>\n",
       "      <td>0</td>\n",
       "      <td>0.5</td>\n",
       "    </tr>\n",
       "    <tr>\n",
       "      <th>1</th>\n",
       "      <td>АСМ-АВ №24</td>\n",
       "      <td>01.01.2020</td>\n",
       "      <td>0.1</td>\n",
       "      <td>0</td>\n",
       "      <td>0.3</td>\n",
       "    </tr>\n",
       "    <tr>\n",
       "      <th>2</th>\n",
       "      <td>АСМ-АВ №6</td>\n",
       "      <td>01.01.2020</td>\n",
       "      <td>0</td>\n",
       "      <td>0</td>\n",
       "      <td>0.3</td>\n",
       "    </tr>\n",
       "    <tr>\n",
       "      <th>3</th>\n",
       "      <td>АСМ-АВ №3</td>\n",
       "      <td>01.01.2020</td>\n",
       "      <td>0.1</td>\n",
       "      <td>0</td>\n",
       "      <td>0.5</td>\n",
       "    </tr>\n",
       "    <tr>\n",
       "      <th>4</th>\n",
       "      <td>АСМ-АВ №18</td>\n",
       "      <td>01.01.2020</td>\n",
       "      <td>0.2</td>\n",
       "      <td>0</td>\n",
       "      <td>0.3</td>\n",
       "    </tr>\n",
       "  </tbody>\n",
       "</table>\n",
       "</div>"
      ],
      "text/plain": [
       "  station_name        date carbon_monoxide nitric_oxide nitrogen_dioxide\n",
       "0   АСМ-АВ №10  01.01.2020             0.1            0              0.5\n",
       "1   АСМ-АВ №24  01.01.2020             0.1            0              0.3\n",
       "2    АСМ-АВ №6  01.01.2020               0            0              0.3\n",
       "3    АСМ-АВ №3  01.01.2020             0.1            0              0.5\n",
       "4   АСМ-АВ №18  01.01.2020             0.2            0              0.3"
      ]
     },
     "execution_count": 12,
     "metadata": {},
     "output_type": "execute_result"
    }
   ],
   "source": [
    "eco_df.replace('менее 0.1',0.0,inplace=True)\n",
    "eco_df['carbon_monoxide'].replace('-*',eco_df['carbon_monoxide'].value_counts().idxmax(),inplace=True)\n",
    "eco_df['nitric_oxide'].replace('-*',eco_df['nitric_oxide'].value_counts().idxmax(),inplace=True)\n",
    "eco_df['nitrogen_dioxide'].replace('-*',eco_df['nitrogen_dioxide'].value_counts().idxmax(),inplace=True)\n",
    "eco_df.head()"
   ]
  },
  {
   "cell_type": "markdown",
   "metadata": {},
   "source": [
    "<h2>Lets try to get data from Foursquere about St. Petersburg</h2>"
   ]
  },
  {
   "cell_type": "markdown",
   "metadata": {},
   "source": [
    "Lets create a dataframe for venues near each stations"
   ]
  },
  {
   "cell_type": "code",
   "execution_count": 13,
   "metadata": {
    "pycharm": {
     "name": "#%%\n"
    }
   },
   "outputs": [],
   "source": [
    "venues_df=pd.DataFrame(columns=['station_name','station_lat','station_lng',\n",
    "                       'venue_name','venue_lat','venue_lng','venue_category'])"
   ]
  },
  {
   "cell_type": "markdown",
   "metadata": {},
   "source": [
    "Credentials and parameteres for requests to Foursquere API"
   ]
  },
  {
   "cell_type": "code",
   "execution_count": 14,
   "metadata": {
    "pycharm": {
     "name": "#%%\n"
    }
   },
   "outputs": [],
   "source": [
    "import requests # library to handle requests\n",
    "\n",
    "f=open('temp/foursquere_credentials')\n",
    "CLIENT_ID=f.readline()\n",
    "CLIENT_SECRET=f.readline()\n",
    "f.close()\n",
    "\n",
    "VERSION = '20180605'\n",
    "\n",
    "LIMIT = 500 # limit of number of venues returned by Foursquare API\n",
    "radius = 1000 # define radius"
   ]
  },
  {
   "cell_type": "markdown",
   "metadata": {},
   "source": [
    "Creating a function for getting nearby venues"
   ]
  },
  {
   "cell_type": "code",
   "execution_count": 15,
   "metadata": {
    "pycharm": {
     "name": "#%%\n"
    }
   },
   "outputs": [],
   "source": [
    "def getNearbyVenues(names, latitudes, longitudes, radius):\n",
    "    venues_list=[]\n",
    "    for name, lat, lng in zip(names, latitudes, longitudes):\n",
    "        print(name)\n",
    "        # create the API request URL\n",
    "        url = 'https://api.foursquare.com/v2/venues/explore?&client_id={}&client_secret={}&v={}&ll={},{}&radius={}&limit={}'.format(\n",
    "            CLIENT_ID,\n",
    "            CLIENT_SECRET,\n",
    "            VERSION,\n",
    "            lat,\n",
    "            lng,\n",
    "            radius,\n",
    "            LIMIT)\n",
    "\n",
    "        # make the GET request\n",
    "        results = requests.get(url).json()['response']['groups'][0]['items']\n",
    "\n",
    "        # return only relevant information for each nearby venue\n",
    "        venues_list.append([(\n",
    "            name,\n",
    "            lat,\n",
    "            lng,\n",
    "            v['venue']['name'],\n",
    "            v['venue']['location']['lat'],\n",
    "            v['venue']['location']['lng'],\n",
    "            v['venue']['categories'][0]['name']) for v in results])\n",
    "\n",
    "    nearby_venues = pd.DataFrame([item for venue_list in venues_list for item in venue_list])\n",
    "    nearby_venues.columns = ['station_name',\n",
    "                             'station_lat',\n",
    "                             'station_lng',\n",
    "                             'venue_name',\n",
    "                             'venue_lat',\n",
    "                             'venue_lng',\n",
    "                             'venue_category']\n",
    "\n",
    "    return(nearby_venues)"
   ]
  },
  {
   "cell_type": "markdown",
   "metadata": {},
   "source": [
    "Lets get venues near each stations"
   ]
  },
  {
   "cell_type": "code",
   "execution_count": 16,
   "metadata": {},
   "outputs": [
    {
     "name": "stdout",
     "output_type": "stream",
     "text": [
      "АСМ-АВ №10\n",
      "АСМ-АВ №24\n",
      "АСМ-АВ №6\n",
      "АСМ-АВ №3\n",
      "АСМ-АВ №18\n",
      "АСМ-АВ №5\n",
      "АСМ-АВ №22\n",
      "АСМ-АВ №2\n",
      "АСМ-АВ №25\n",
      "АСМ-АВ №4\n",
      "АСМ-АВ №13\n",
      "АСМ-АВ №14\n",
      "АСМ-АВ №19\n",
      "АСМ-АВ №15\n",
      "АСМ-АВ №11\n",
      "АСМ-АВ №16\n",
      "АСМ-АВ №20\n",
      "АСМ-АВ №1\n",
      "АСМ-АВ №23\n",
      "АСМ-АВ №21\n",
      "АСМ-АВ №8\n",
      "АСМ-АВ №17\n",
      "АСМ-АВ №9\n",
      "АСМ-АВ №7\n"
     ]
    },
    {
     "data": {
      "text/html": [
       "<div>\n",
       "<style scoped>\n",
       "    .dataframe tbody tr th:only-of-type {\n",
       "        vertical-align: middle;\n",
       "    }\n",
       "\n",
       "    .dataframe tbody tr th {\n",
       "        vertical-align: top;\n",
       "    }\n",
       "\n",
       "    .dataframe thead th {\n",
       "        text-align: right;\n",
       "    }\n",
       "</style>\n",
       "<table border=\"1\" class=\"dataframe\">\n",
       "  <thead>\n",
       "    <tr style=\"text-align: right;\">\n",
       "      <th></th>\n",
       "      <th>station_name</th>\n",
       "      <th>station_lat</th>\n",
       "      <th>station_lng</th>\n",
       "      <th>venue_name</th>\n",
       "      <th>venue_lat</th>\n",
       "      <th>venue_lng</th>\n",
       "      <th>venue_category</th>\n",
       "    </tr>\n",
       "  </thead>\n",
       "  <tbody>\n",
       "    <tr>\n",
       "      <th>0</th>\n",
       "      <td>АСМ-АВ №10</td>\n",
       "      <td>59.91798</td>\n",
       "      <td>30.316883</td>\n",
       "      <td>Таблица Менделеева</td>\n",
       "      <td>59.918184</td>\n",
       "      <td>30.317408</td>\n",
       "      <td>Outdoor Sculpture</td>\n",
       "    </tr>\n",
       "    <tr>\n",
       "      <th>1</th>\n",
       "      <td>АСМ-АВ №10</td>\n",
       "      <td>59.91798</td>\n",
       "      <td>30.316883</td>\n",
       "      <td>Молодёжный театр на Фонтанке</td>\n",
       "      <td>59.919040</td>\n",
       "      <td>30.313030</td>\n",
       "      <td>Theater</td>\n",
       "    </tr>\n",
       "    <tr>\n",
       "      <th>2</th>\n",
       "      <td>АСМ-АВ №10</td>\n",
       "      <td>59.91798</td>\n",
       "      <td>30.316883</td>\n",
       "      <td>Молодёжный театр на Фонтанке, Малая сцена</td>\n",
       "      <td>59.918919</td>\n",
       "      <td>30.312596</td>\n",
       "      <td>Theater</td>\n",
       "    </tr>\n",
       "    <tr>\n",
       "      <th>3</th>\n",
       "      <td>АСМ-АВ №10</td>\n",
       "      <td>59.91798</td>\n",
       "      <td>30.316883</td>\n",
       "      <td>Измайловский сад</td>\n",
       "      <td>59.919530</td>\n",
       "      <td>30.312857</td>\n",
       "      <td>Park</td>\n",
       "    </tr>\n",
       "    <tr>\n",
       "      <th>4</th>\n",
       "      <td>АСМ-АВ №10</td>\n",
       "      <td>59.91798</td>\n",
       "      <td>30.316883</td>\n",
       "      <td>Hungry Bags</td>\n",
       "      <td>59.920143</td>\n",
       "      <td>30.319283</td>\n",
       "      <td>Comic Shop</td>\n",
       "    </tr>\n",
       "  </tbody>\n",
       "</table>\n",
       "</div>"
      ],
      "text/plain": [
       "  station_name  station_lat  station_lng  \\\n",
       "0   АСМ-АВ №10     59.91798    30.316883   \n",
       "1   АСМ-АВ №10     59.91798    30.316883   \n",
       "2   АСМ-АВ №10     59.91798    30.316883   \n",
       "3   АСМ-АВ №10     59.91798    30.316883   \n",
       "4   АСМ-АВ №10     59.91798    30.316883   \n",
       "\n",
       "                                  venue_name  venue_lat  venue_lng  \\\n",
       "0                         Таблица Менделеева  59.918184  30.317408   \n",
       "1               Молодёжный театр на Фонтанке  59.919040  30.313030   \n",
       "2  Молодёжный театр на Фонтанке, Малая сцена  59.918919  30.312596   \n",
       "3                           Измайловский сад  59.919530  30.312857   \n",
       "4                                Hungry Bags  59.920143  30.319283   \n",
       "\n",
       "      venue_category  \n",
       "0  Outdoor Sculpture  \n",
       "1            Theater  \n",
       "2            Theater  \n",
       "3               Park  \n",
       "4         Comic Shop  "
      ]
     },
     "execution_count": 16,
     "metadata": {},
     "output_type": "execute_result"
    }
   ],
   "source": [
    "venues_df=getNearbyVenues(stations['name'],stations['lat'],stations['lng'],radius)\n",
    "venues_df.head()"
   ]
  },
  {
   "cell_type": "code",
   "execution_count": null,
   "metadata": {
    "pycharm": {
     "name": "#%%\n"
    }
   },
   "outputs": [],
   "source": []
  }
 ],
 "metadata": {
  "kernelspec": {
   "display_name": "Python 3",
   "language": "python",
   "name": "python3"
  },
  "language_info": {
   "codemirror_mode": {
    "name": "ipython",
    "version": 3
   },
   "file_extension": ".py",
   "mimetype": "text/x-python",
   "name": "python",
   "nbconvert_exporter": "python",
   "pygments_lexer": "ipython3",
   "version": "3.8.3"
  },
  "pycharm": {
   "stem_cell": {
    "cell_type": "raw",
    "metadata": {
     "collapsed": false
    },
    "source": [
     "\n"
    ]
   }
  }
 },
 "nbformat": 4,
 "nbformat_minor": 1
}